{
  "cells": [
    {
      "cell_type": "code",
      "execution_count": 1,
      "metadata": {
        "id": "UXNxtsaKUE0f"
      },
      "outputs": [],
      "source": [
        "import pandas as pd\n",
        "import matplotlib.pyplot as plt\n",
        "\n",
        "\n",
        "def age_buckets(age):\n",
        "    if (age < 27):\n",
        "        return 'Gen-Z'\n",
        "    elif (age >= 27) and (age <= 42):\n",
        "        return 'Millennial'\n",
        "    elif (age>=43) and (age <= 48):\n",
        "        return 'Gen X'\n",
        "    elif (age>=59) and (age <= 68):\n",
        "        return 'Boomer II'\n",
        "    elif (age>=59) and (age <= 77):\n",
        "        return 'Boomer I'\n",
        "    else:\n",
        "        return 'Post War'   \n"
      ]
    },
    {
      "cell_type": "code",
      "execution_count": 2,
      "metadata": {
        "colab": {
          "base_uri": "https://localhost:8080/",
          "height": 629
        },
        "id": "hYfi7lpKU79t",
        "outputId": "4c6ceffa-9844-44d7-f887-7311a09508bb"
      },
      "outputs": [
        {
          "data": {
            "text/html": [
              "<div>\n",
              "<style scoped>\n",
              "    .dataframe tbody tr th:only-of-type {\n",
              "        vertical-align: middle;\n",
              "    }\n",
              "\n",
              "    .dataframe tbody tr th {\n",
              "        vertical-align: top;\n",
              "    }\n",
              "\n",
              "    .dataframe thead th {\n",
              "        text-align: right;\n",
              "    }\n",
              "</style>\n",
              "<table border=\"1\" class=\"dataframe\">\n",
              "  <thead>\n",
              "    <tr style=\"text-align: right;\">\n",
              "      <th></th>\n",
              "      <th>Voter ID</th>\n",
              "      <th>VOTE_TYPE</th>\n",
              "      <th>CITY</th>\n",
              "      <th>ZIP</th>\n",
              "      <th>SEX</th>\n",
              "      <th>DATE_VOTED</th>\n",
              "      <th>BIRTHYEAR</th>\n",
              "      <th>Voting Site</th>\n",
              "      <th>Voting Precinct</th>\n",
              "      <th>Congressional House District</th>\n",
              "      <th>...</th>\n",
              "      <th>School District</th>\n",
              "      <th>School District Postion/Seat District</th>\n",
              "      <th>Municipality</th>\n",
              "      <th>Municipality District</th>\n",
              "      <th>Utility District</th>\n",
              "      <th>Management District</th>\n",
              "      <th>Community College District</th>\n",
              "      <th>Harris County SCHOOL TRUSTEE District</th>\n",
              "      <th>Community College Position District</th>\n",
              "      <th>Metro  District</th>\n",
              "    </tr>\n",
              "  </thead>\n",
              "  <tbody>\n",
              "    <tr>\n",
              "      <th>417028</th>\n",
              "      <td>1.121623e+09</td>\n",
              "      <td>M</td>\n",
              "      <td>CYPRESS</td>\n",
              "      <td>77429</td>\n",
              "      <td>M</td>\n",
              "      <td>2022-10-27 08:51:00</td>\n",
              "      <td>1947</td>\n",
              "      <td>NaN</td>\n",
              "      <td>768</td>\n",
              "      <td>CONGRESSIONAL DIST 38</td>\n",
              "      <td>...</td>\n",
              "      <td>CYPRESS-FAIRBANKS ISD</td>\n",
              "      <td>NaN</td>\n",
              "      <td>NaN</td>\n",
              "      <td>NaN</td>\n",
              "      <td>NW HC MUD 005</td>\n",
              "      <td>NaN</td>\n",
              "      <td>LONE STAR COLLEGE SYSTEM</td>\n",
              "      <td>HC SCHOOL TRUSTEE POS 4</td>\n",
              "      <td>LONE STAR CS DISTRICT 9</td>\n",
              "      <td>METROPOLITAN TRANSIT AUTHORITY</td>\n",
              "    </tr>\n",
              "    <tr>\n",
              "      <th>127881</th>\n",
              "      <td>1.155698e+09</td>\n",
              "      <td>P</td>\n",
              "      <td>TOMBALL</td>\n",
              "      <td>77377</td>\n",
              "      <td>F</td>\n",
              "      <td>2022-11-04 00:00:00</td>\n",
              "      <td>1990</td>\n",
              "      <td>SRD150K</td>\n",
              "      <td>173</td>\n",
              "      <td>CONGRESSIONAL DIST 02</td>\n",
              "      <td>...</td>\n",
              "      <td>SPRING ISD</td>\n",
              "      <td>NaN</td>\n",
              "      <td>NaN</td>\n",
              "      <td>NaN</td>\n",
              "      <td>N.GATE CROSSING MUD 2</td>\n",
              "      <td>NaN</td>\n",
              "      <td>LONE STAR COLLEGE SYSTEM</td>\n",
              "      <td>HC SCHOOL TRUSTEE POS 4</td>\n",
              "      <td>LONE STAR CS DISTRICT 2</td>\n",
              "      <td>METROPOLITAN TRANSIT AUTHORITY</td>\n",
              "    </tr>\n",
              "    <tr>\n",
              "      <th>118382</th>\n",
              "      <td>1.100116e+09</td>\n",
              "      <td>E</td>\n",
              "      <td>HOUSTON</td>\n",
              "      <td>77084</td>\n",
              "      <td>F</td>\n",
              "      <td>2022-11-08 00:00:00</td>\n",
              "      <td>1969</td>\n",
              "      <td>12012</td>\n",
              "      <td>804</td>\n",
              "      <td>CONGRESSIONAL DIST 08</td>\n",
              "      <td>...</td>\n",
              "      <td>KATY ISD</td>\n",
              "      <td>NaN</td>\n",
              "      <td>NaN</td>\n",
              "      <td>NaN</td>\n",
              "      <td>HC MUD 238</td>\n",
              "      <td>NaN</td>\n",
              "      <td>NaN</td>\n",
              "      <td>HC SCHOOL TRUSTEE POS 2</td>\n",
              "      <td>NaN</td>\n",
              "      <td>METROPOLITAN TRANSIT AUTHORITY</td>\n",
              "    </tr>\n",
              "    <tr>\n",
              "      <th>80172</th>\n",
              "      <td>1.104790e+09</td>\n",
              "      <td>P</td>\n",
              "      <td>SPRING</td>\n",
              "      <td>77379</td>\n",
              "      <td>M</td>\n",
              "      <td>2022-10-24 00:00:00</td>\n",
              "      <td>1947</td>\n",
              "      <td>SRD150K</td>\n",
              "      <td>477</td>\n",
              "      <td>CONGRESSIONAL DIST 38</td>\n",
              "      <td>...</td>\n",
              "      <td>KLEIN ISD</td>\n",
              "      <td>NaN</td>\n",
              "      <td>NaN</td>\n",
              "      <td>NaN</td>\n",
              "      <td>HC MUD 024</td>\n",
              "      <td>NaN</td>\n",
              "      <td>LONE STAR COLLEGE SYSTEM</td>\n",
              "      <td>HC SCHOOL TRUSTEE POS 4</td>\n",
              "      <td>LONE STAR CS DISTRICT 9</td>\n",
              "      <td>METROPOLITAN TRANSIT AUTHORITY</td>\n",
              "    </tr>\n",
              "    <tr>\n",
              "      <th>329902</th>\n",
              "      <td>1.105549e+09</td>\n",
              "      <td>E</td>\n",
              "      <td>BELLAIRE</td>\n",
              "      <td>77401</td>\n",
              "      <td>M</td>\n",
              "      <td>2022-11-08 00:00:00</td>\n",
              "      <td>1981</td>\n",
              "      <td>92098</td>\n",
              "      <td>215</td>\n",
              "      <td>CONGRESSIONAL DIST 07</td>\n",
              "      <td>...</td>\n",
              "      <td>HOUSTON ISD</td>\n",
              "      <td>HOUSTON ISD POSITION 5</td>\n",
              "      <td>BELLAIRE; CITY OF</td>\n",
              "      <td>NaN</td>\n",
              "      <td>NaN</td>\n",
              "      <td>NaN</td>\n",
              "      <td>HOUSTON COMMUNITY COLLEGE</td>\n",
              "      <td>HC SCHOOL TRUSTEE POS 6</td>\n",
              "      <td>HOUSTON COMM COL DIST 5</td>\n",
              "      <td>METROPOLITAN TRANSIT AUTHORITY</td>\n",
              "    </tr>\n",
              "  </tbody>\n",
              "</table>\n",
              "<p>5 rows × 25 columns</p>\n",
              "</div>"
            ],
            "text/plain": [
              "            Voter ID VOTE_TYPE      CITY    ZIP SEX          DATE_VOTED  \\\n",
              "417028  1.121623e+09         M   CYPRESS  77429   M 2022-10-27 08:51:00   \n",
              "127881  1.155698e+09         P   TOMBALL  77377   F 2022-11-04 00:00:00   \n",
              "118382  1.100116e+09         E   HOUSTON  77084   F 2022-11-08 00:00:00   \n",
              "80172   1.104790e+09         P    SPRING  77379   M 2022-10-24 00:00:00   \n",
              "329902  1.105549e+09         E  BELLAIRE  77401   M 2022-11-08 00:00:00   \n",
              "\n",
              "       BIRTHYEAR Voting Site  Voting Precinct Congressional House District  \\\n",
              "417028      1947         NaN              768        CONGRESSIONAL DIST 38   \n",
              "127881      1990     SRD150K              173        CONGRESSIONAL DIST 02   \n",
              "118382      1969       12012              804        CONGRESSIONAL DIST 08   \n",
              "80172       1947     SRD150K              477        CONGRESSIONAL DIST 38   \n",
              "329902      1981       92098              215        CONGRESSIONAL DIST 07   \n",
              "\n",
              "        ...        School District School District Postion/Seat District  \\\n",
              "417028  ...  CYPRESS-FAIRBANKS ISD                                   NaN   \n",
              "127881  ...             SPRING ISD                                   NaN   \n",
              "118382  ...               KATY ISD                                   NaN   \n",
              "80172   ...              KLEIN ISD                                   NaN   \n",
              "329902  ...            HOUSTON ISD                HOUSTON ISD POSITION 5   \n",
              "\n",
              "             Municipality Municipality District       Utility District  \\\n",
              "417028                NaN                   NaN          NW HC MUD 005   \n",
              "127881                NaN                   NaN  N.GATE CROSSING MUD 2   \n",
              "118382                NaN                   NaN             HC MUD 238   \n",
              "80172                 NaN                   NaN             HC MUD 024   \n",
              "329902  BELLAIRE; CITY OF                   NaN                    NaN   \n",
              "\n",
              "       Management District Community College District  \\\n",
              "417028                 NaN   LONE STAR COLLEGE SYSTEM   \n",
              "127881                 NaN   LONE STAR COLLEGE SYSTEM   \n",
              "118382                 NaN                        NaN   \n",
              "80172                  NaN   LONE STAR COLLEGE SYSTEM   \n",
              "329902                 NaN  HOUSTON COMMUNITY COLLEGE   \n",
              "\n",
              "       Harris County SCHOOL TRUSTEE District  \\\n",
              "417028               HC SCHOOL TRUSTEE POS 4   \n",
              "127881               HC SCHOOL TRUSTEE POS 4   \n",
              "118382               HC SCHOOL TRUSTEE POS 2   \n",
              "80172                HC SCHOOL TRUSTEE POS 4   \n",
              "329902               HC SCHOOL TRUSTEE POS 6   \n",
              "\n",
              "       Community College Position District                 Metro  District  \n",
              "417028             LONE STAR CS DISTRICT 9  METROPOLITAN TRANSIT AUTHORITY  \n",
              "127881             LONE STAR CS DISTRICT 2  METROPOLITAN TRANSIT AUTHORITY  \n",
              "118382                                 NaN  METROPOLITAN TRANSIT AUTHORITY  \n",
              "80172              LONE STAR CS DISTRICT 9  METROPOLITAN TRANSIT AUTHORITY  \n",
              "329902             HOUSTON COMM COL DIST 5  METROPOLITAN TRANSIT AUTHORITY  \n",
              "\n",
              "[5 rows x 25 columns]"
            ]
          },
          "execution_count": 2,
          "metadata": {},
          "output_type": "execute_result"
        }
      ],
      "source": [
        "df1 = pd.read_excel('content/Nov2022_Voters_1of3.xlsx')\n",
        "df2 = pd.read_excel('content/Nov2022_Voters_2of3.xlsx')\n",
        "df3 = pd.read_excel('content/Nov2022_Voters_3of3.xlsx')\n",
        "\n",
        "nov_2022_voters = pd.concat([df1,df2,df3])\n",
        "nov_2022_voters.sample(5)"
      ]
    },
    {
      "cell_type": "code",
      "execution_count": 3,
      "metadata": {
        "colab": {
          "base_uri": "https://localhost:8080/",
          "height": 206
        },
        "id": "7KIWx-VpVP0l",
        "outputId": "5664160e-6185-4371-e191-ddc15802ada1"
      },
      "outputs": [
        {
          "data": {
            "text/html": [
              "<div>\n",
              "<style scoped>\n",
              "    .dataframe tbody tr th:only-of-type {\n",
              "        vertical-align: middle;\n",
              "    }\n",
              "\n",
              "    .dataframe tbody tr th {\n",
              "        vertical-align: top;\n",
              "    }\n",
              "\n",
              "    .dataframe thead th {\n",
              "        text-align: right;\n",
              "    }\n",
              "</style>\n",
              "<table border=\"1\" class=\"dataframe\">\n",
              "  <thead>\n",
              "    <tr style=\"text-align: right;\">\n",
              "      <th></th>\n",
              "      <th>Status</th>\n",
              "      <th>Voter ID</th>\n",
              "      <th>Precinct</th>\n",
              "      <th>City</th>\n",
              "      <th>Zip</th>\n",
              "      <th>Effective Date</th>\n",
              "    </tr>\n",
              "  </thead>\n",
              "  <tbody>\n",
              "    <tr>\n",
              "      <th>124098</th>\n",
              "      <td>Active</td>\n",
              "      <td>1203913968</td>\n",
              "      <td>573</td>\n",
              "      <td>HOUSTON</td>\n",
              "      <td>77033</td>\n",
              "      <td>3/28/2022</td>\n",
              "    </tr>\n",
              "    <tr>\n",
              "      <th>245337</th>\n",
              "      <td>Active</td>\n",
              "      <td>2126279189</td>\n",
              "      <td>762</td>\n",
              "      <td>HOUSTON</td>\n",
              "      <td>77089</td>\n",
              "      <td>9/18/2018</td>\n",
              "    </tr>\n",
              "    <tr>\n",
              "      <th>506573</th>\n",
              "      <td>Active</td>\n",
              "      <td>1191794506</td>\n",
              "      <td>957</td>\n",
              "      <td>HOUSTON</td>\n",
              "      <td>77067</td>\n",
              "      <td>10/23/2012</td>\n",
              "    </tr>\n",
              "    <tr>\n",
              "      <th>587769</th>\n",
              "      <td>ID Required</td>\n",
              "      <td>2167855346</td>\n",
              "      <td>614</td>\n",
              "      <td>HOUSTON</td>\n",
              "      <td>77014</td>\n",
              "      <td>8/7/2020</td>\n",
              "    </tr>\n",
              "    <tr>\n",
              "      <th>709924</th>\n",
              "      <td>Active</td>\n",
              "      <td>1107468511</td>\n",
              "      <td>229</td>\n",
              "      <td>HOUSTON</td>\n",
              "      <td>77029</td>\n",
              "      <td>7/16/2006</td>\n",
              "    </tr>\n",
              "  </tbody>\n",
              "</table>\n",
              "</div>"
            ],
            "text/plain": [
              "             Status    Voter ID  Precinct     City    Zip Effective Date\n",
              "124098       Active  1203913968       573  HOUSTON  77033      3/28/2022\n",
              "245337       Active  2126279189       762  HOUSTON  77089      9/18/2018\n",
              "506573       Active  1191794506       957  HOUSTON  77067     10/23/2012\n",
              "587769  ID Required  2167855346       614  HOUSTON  77014       8/7/2020\n",
              "709924       Active  1107468511       229  HOUSTON  77029      7/16/2006"
            ]
          },
          "execution_count": 3,
          "metadata": {},
          "output_type": "execute_result"
        }
      ],
      "source": [
        "df1 = pd.read_csv('content/AllRegistered_Harris_1of3.csv')\n",
        "df2 = pd.read_csv('content/AllRegistered_Harris_2of3.csv')\n",
        "df3 = pd.read_csv('content/AllRegistered_Harris_3of3.csv')\n",
        "\n",
        "all_voters = pd.concat([df1,df2,df3])\n",
        "all_voters.sample(5)"
      ]
    },
    {
      "cell_type": "code",
      "execution_count": 4,
      "metadata": {
        "colab": {
          "base_uri": "https://localhost:8080/"
        },
        "id": "ZbJzPu5cVt8j",
        "outputId": "132c7a32-52c4-48f4-93a1-39dfdfeab8a5"
      },
      "outputs": [
        {
          "name": "stdout",
          "output_type": "stream",
          "text": [
            "[+] Number of Votes Cast in November:  1107401\n",
            "[/] Number of Registered Voters:  2538176\n",
            "[=] Voter Turn out as a percentage 43.62979556973197\n"
          ]
        }
      ],
      "source": [
        "print('[+] Number of Votes Cast in November: ', nov_2022_voters.shape[0])\n",
        "print('[/] Number of Registered Voters: ', all_voters.shape[0])\n",
        "print('[=] Voter Turn out as a percentage', (nov_2022_voters.shape[0] / all_voters.shape[0]) * 100)\n"
      ]
    },
    {
      "cell_type": "code",
      "execution_count": 6,
      "metadata": {
        "colab": {
          "base_uri": "https://localhost:8080/"
        },
        "id": "CmfWrwIXY_8T",
        "outputId": "f008248a-7a85-46a3-fbc3-1120f4cdc5f6"
      },
      "outputs": [
        {
          "data": {
            "text/plain": [
              "Index(['Voter ID', 'VOTE_TYPE', 'CITY', 'ZIP', 'SEX', 'DATE_VOTED',\n",
              "       'BIRTHYEAR', 'Voting Site', 'Voting Precinct',\n",
              "       'Congressional House District', 'State Senate District',\n",
              "       'State Representative District', 'County Commissioner District',\n",
              "       'State Board of Education District',\n",
              "       'Just of the Peace/Constable District', 'School District',\n",
              "       'School District Postion/Seat District', 'Municipality',\n",
              "       'Municipality District', 'Utility District', 'Management District',\n",
              "       'Community College District', 'Harris County SCHOOL TRUSTEE District',\n",
              "       'Community College Position District', 'Metro  District'],\n",
              "      dtype='object')"
            ]
          },
          "execution_count": 6,
          "metadata": {},
          "output_type": "execute_result"
        }
      ],
      "source": [
        "nov_2022_voters.columns"
      ]
    },
    {
      "cell_type": "code",
      "execution_count": 7,
      "metadata": {
        "colab": {
          "base_uri": "https://localhost:8080/",
          "height": 53
        },
        "id": "0oThZGdEZkYs",
        "outputId": "08cd55a9-6e03-4768-c504-d45ef074229d"
      },
      "outputs": [
        {
          "data": {
            "text/plain": [
              "'\\nVoter Turnout (Top 5) and (Bottom 5):\\n    Distribution by  City, Zip, Sex, Age (BIRTHYEAR)\\nVoters who didnt Turnout:\\n    Distribution by  City, Zip, Sex, Age (BIRTHYEAR)\\n'"
            ]
          },
          "execution_count": 7,
          "metadata": {},
          "output_type": "execute_result"
        }
      ],
      "source": [
        "\"\"\"\n",
        "Voter Turnout (Top 5) and (Bottom 5):\n",
        "    Distribution by  City, Zip, Sex, Age (BIRTHYEAR)\n",
        "Voters who didnt Turnout:\n",
        "    Distribution by  City, Zip, Sex, Age (BIRTHYEAR)\n",
        "\"\"\""
      ]
    },
    {
      "cell_type": "code",
      "execution_count": 8,
      "metadata": {
        "id": "KYHEhMb4aHFN"
      },
      "outputs": [],
      "source": [
        "def top_counter(df, group_col):\n",
        "    xx = df[group_col].value_counts(normalize=True)\n",
        "    percent = xx / xx.sum()\n",
        "    fmt = '{:.1%}'.format\n",
        "    return pd.DataFrame({'percentage': percent.map(fmt)}).reset_index().head(5)\n",
        "\n",
        "def bottom_counter(df, group_col):\n",
        "    xx = df[group_col].value_counts(normalize=True)\n",
        "    percent = xx / xx.sum()\n",
        "    fmt = '{:.1%}'.format\n",
        "    return pd.DataFrame({'percentage': percent.map(fmt)}).reset_index().tail(5)\n"
      ]
    },
    {
      "cell_type": "markdown",
      "metadata": {
        "id": "EGm0aHaRd6rZ"
      },
      "source": [
        "### General Turnout"
      ]
    },
    {
      "cell_type": "code",
      "execution_count": 9,
      "metadata": {
        "colab": {
          "base_uri": "https://localhost:8080/",
          "height": 206
        },
        "id": "eQm9xC7TaZBe",
        "outputId": "f62f6d6e-321b-4b56-fdb8-80bbd771bcf4"
      },
      "outputs": [
        {
          "data": {
            "text/html": [
              "<div>\n",
              "<style scoped>\n",
              "    .dataframe tbody tr th:only-of-type {\n",
              "        vertical-align: middle;\n",
              "    }\n",
              "\n",
              "    .dataframe tbody tr th {\n",
              "        vertical-align: top;\n",
              "    }\n",
              "\n",
              "    .dataframe thead th {\n",
              "        text-align: right;\n",
              "    }\n",
              "</style>\n",
              "<table border=\"1\" class=\"dataframe\">\n",
              "  <thead>\n",
              "    <tr style=\"text-align: right;\">\n",
              "      <th></th>\n",
              "      <th>index</th>\n",
              "      <th>percentage</th>\n",
              "    </tr>\n",
              "  </thead>\n",
              "  <tbody>\n",
              "    <tr>\n",
              "      <th>0</th>\n",
              "      <td>HOUSTON</td>\n",
              "      <td>61.4%</td>\n",
              "    </tr>\n",
              "    <tr>\n",
              "      <th>1</th>\n",
              "      <td>SPRING</td>\n",
              "      <td>6.9%</td>\n",
              "    </tr>\n",
              "    <tr>\n",
              "      <th>2</th>\n",
              "      <td>CYPRESS</td>\n",
              "      <td>6.1%</td>\n",
              "    </tr>\n",
              "    <tr>\n",
              "      <th>3</th>\n",
              "      <td>KATY</td>\n",
              "      <td>5.1%</td>\n",
              "    </tr>\n",
              "    <tr>\n",
              "      <th>4</th>\n",
              "      <td>HUMBLE</td>\n",
              "      <td>4.0%</td>\n",
              "    </tr>\n",
              "  </tbody>\n",
              "</table>\n",
              "</div>"
            ],
            "text/plain": [
              "     index percentage\n",
              "0  HOUSTON      61.4%\n",
              "1   SPRING       6.9%\n",
              "2  CYPRESS       6.1%\n",
              "3     KATY       5.1%\n",
              "4   HUMBLE       4.0%"
            ]
          },
          "execution_count": 9,
          "metadata": {},
          "output_type": "execute_result"
        }
      ],
      "source": [
        "top_counter(nov_2022_voters, 'CITY')"
      ]
    },
    {
      "cell_type": "code",
      "execution_count": 11,
      "metadata": {
        "colab": {
          "base_uri": "https://localhost:8080/",
          "height": 206
        },
        "id": "KPyOhfAsQRyp",
        "outputId": "a12b5d15-7fa8-4ad8-fe62-e4df789d4626"
      },
      "outputs": [
        {
          "data": {
            "text/html": [
              "<div>\n",
              "<style scoped>\n",
              "    .dataframe tbody tr th:only-of-type {\n",
              "        vertical-align: middle;\n",
              "    }\n",
              "\n",
              "    .dataframe tbody tr th {\n",
              "        vertical-align: top;\n",
              "    }\n",
              "\n",
              "    .dataframe thead th {\n",
              "        text-align: right;\n",
              "    }\n",
              "</style>\n",
              "<table border=\"1\" class=\"dataframe\">\n",
              "  <thead>\n",
              "    <tr style=\"text-align: right;\">\n",
              "      <th></th>\n",
              "      <th>index</th>\n",
              "      <th>percentage</th>\n",
              "    </tr>\n",
              "  </thead>\n",
              "  <tbody>\n",
              "    <tr>\n",
              "      <th>26</th>\n",
              "      <td>***</td>\n",
              "      <td>0.0%</td>\n",
              "    </tr>\n",
              "    <tr>\n",
              "      <th>27</th>\n",
              "      <td>MISSOURI CITY</td>\n",
              "      <td>0.0%</td>\n",
              "    </tr>\n",
              "    <tr>\n",
              "      <th>28</th>\n",
              "      <td>NEW CANEY</td>\n",
              "      <td>0.0%</td>\n",
              "    </tr>\n",
              "    <tr>\n",
              "      <th>29</th>\n",
              "      <td>HEMPSTEAD</td>\n",
              "      <td>0.0%</td>\n",
              "    </tr>\n",
              "    <tr>\n",
              "      <th>30</th>\n",
              "      <td>2088</td>\n",
              "      <td>0.0%</td>\n",
              "    </tr>\n",
              "  </tbody>\n",
              "</table>\n",
              "</div>"
            ],
            "text/plain": [
              "            index percentage\n",
              "26            ***       0.0%\n",
              "27  MISSOURI CITY       0.0%\n",
              "28      NEW CANEY       0.0%\n",
              "29      HEMPSTEAD       0.0%\n",
              "30           2088       0.0%"
            ]
          },
          "execution_count": 11,
          "metadata": {},
          "output_type": "execute_result"
        }
      ],
      "source": [
        "bottom_counter(nov_2022_voters, 'CITY')"
      ]
    },
    {
      "cell_type": "code",
      "execution_count": 10,
      "metadata": {
        "colab": {
          "base_uri": "https://localhost:8080/",
          "height": 265
        },
        "id": "g8o7HhxFkw8U",
        "outputId": "61b9a109-5461-4d1e-fa48-913952825fe6"
      },
      "outputs": [
        {
          "data": {
            "image/png": "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",
            "text/plain": [
              "<Figure size 640x480 with 1 Axes>"
            ]
          },
          "metadata": {},
          "output_type": "display_data"
        }
      ],
      "source": [
        "labels = ['Houston', 'Spring', 'Cypress', 'Katy', 'Humble']\n",
        "percentages = [61.4, 6.9, 6.1, 5.1, 4.0]\n",
        "\n",
        "plt.bar(labels, percentages)\n",
        "\n",
        "for i, v in enumerate(percentages):\n",
        "    plt.annotate(str(v) + \"%\", \n",
        "                 xy=(i, v), \n",
        "                 xytext=(-14,2), \n",
        "                 textcoords='offset points',\n",
        "                 fontweight='bold')\n",
        "plt.show()"
      ]
    },
    {
      "cell_type": "code",
      "execution_count": 12,
      "metadata": {
        "colab": {
          "base_uri": "https://localhost:8080/",
          "height": 206
        },
        "id": "RVelQErrpowc",
        "outputId": "e0e659e0-3396-4344-add7-52e9673172ad"
      },
      "outputs": [
        {
          "data": {
            "text/html": [
              "<div>\n",
              "<style scoped>\n",
              "    .dataframe tbody tr th:only-of-type {\n",
              "        vertical-align: middle;\n",
              "    }\n",
              "\n",
              "    .dataframe tbody tr th {\n",
              "        vertical-align: top;\n",
              "    }\n",
              "\n",
              "    .dataframe thead th {\n",
              "        text-align: right;\n",
              "    }\n",
              "</style>\n",
              "<table border=\"1\" class=\"dataframe\">\n",
              "  <thead>\n",
              "    <tr style=\"text-align: right;\">\n",
              "      <th></th>\n",
              "      <th>index</th>\n",
              "      <th>percentage</th>\n",
              "    </tr>\n",
              "  </thead>\n",
              "  <tbody>\n",
              "    <tr>\n",
              "      <th>0</th>\n",
              "      <td>P</td>\n",
              "      <td>62.5%</td>\n",
              "    </tr>\n",
              "    <tr>\n",
              "      <th>1</th>\n",
              "      <td>E</td>\n",
              "      <td>31.5%</td>\n",
              "    </tr>\n",
              "    <tr>\n",
              "      <th>2</th>\n",
              "      <td>M</td>\n",
              "      <td>5.4%</td>\n",
              "    </tr>\n",
              "    <tr>\n",
              "      <th>3</th>\n",
              "      <td>Z</td>\n",
              "      <td>0.4%</td>\n",
              "    </tr>\n",
              "    <tr>\n",
              "      <th>4</th>\n",
              "      <td>A</td>\n",
              "      <td>0.2%</td>\n",
              "    </tr>\n",
              "  </tbody>\n",
              "</table>\n",
              "</div>"
            ],
            "text/plain": [
              "  index percentage\n",
              "0     P      62.5%\n",
              "1     E      31.5%\n",
              "2     M       5.4%\n",
              "3     Z       0.4%\n",
              "4     A       0.2%"
            ]
          },
          "execution_count": 12,
          "metadata": {},
          "output_type": "execute_result"
        }
      ],
      "source": [
        "top_counter(nov_2022_voters, 'VOTE_TYPE')"
      ]
    },
    {
      "cell_type": "code",
      "execution_count": 12,
      "metadata": {
        "colab": {
          "base_uri": "https://localhost:8080/",
          "height": 265
        },
        "id": "V5dts2O9lNF1",
        "outputId": "b37c08a1-2cac-4f5c-bd03-8ceb955ff9d8"
      },
      "outputs": [
        {
          "data": {
            "image/png": "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",
            "text/plain": [
              "<Figure size 640x480 with 1 Axes>"
            ]
          },
          "metadata": {},
          "output_type": "display_data"
        }
      ],
      "source": [
        "labels = ['In Person', 'Election Day', 'Mail-in-Vote', 'Provisional', 'Vote-by-Mail']\n",
        "percentages = [62.5, 31.5, 5.4, 0.4, 0.2]\n",
        "\n",
        "plt.bar(labels, percentages)\n",
        "#plt.pie(percentages, labels=labels,autopct='%1.1f%%',explode = (0.1, 0, 0, 0, 0))\n",
        "#plt.xticks(labels, rotation=90)\n",
        "# for i, v in enumerate(percentages):\n",
        "#     plt.text(i, v, str(v) + \"%\", color='black', va='bottom', fontweight='bold')\n",
        "for i, v in enumerate(percentages):\n",
        "    plt.annotate(str(v) + \"%\", \n",
        "                 xy=(i, v), \n",
        "                 xytext=(-14,2), \n",
        "                 textcoords='offset points',\n",
        "                 fontweight='bold')\n",
        "plt.show()"
      ]
    },
    {
      "cell_type": "code",
      "execution_count": 14,
      "metadata": {
        "colab": {
          "base_uri": "https://localhost:8080/",
          "height": 206
        },
        "id": "IK-dwVyObtCJ",
        "outputId": "1fc5bed2-a74f-4485-837a-d7d080279583"
      },
      "outputs": [
        {
          "data": {
            "text/html": [
              "<div>\n",
              "<style scoped>\n",
              "    .dataframe tbody tr th:only-of-type {\n",
              "        vertical-align: middle;\n",
              "    }\n",
              "\n",
              "    .dataframe tbody tr th {\n",
              "        vertical-align: top;\n",
              "    }\n",
              "\n",
              "    .dataframe thead th {\n",
              "        text-align: right;\n",
              "    }\n",
              "</style>\n",
              "<table border=\"1\" class=\"dataframe\">\n",
              "  <thead>\n",
              "    <tr style=\"text-align: right;\">\n",
              "      <th></th>\n",
              "      <th>index</th>\n",
              "      <th>percentage</th>\n",
              "    </tr>\n",
              "  </thead>\n",
              "  <tbody>\n",
              "    <tr>\n",
              "      <th>26</th>\n",
              "      <td>***</td>\n",
              "      <td>0.0%</td>\n",
              "    </tr>\n",
              "    <tr>\n",
              "      <th>27</th>\n",
              "      <td>MISSOURI CITY</td>\n",
              "      <td>0.0%</td>\n",
              "    </tr>\n",
              "    <tr>\n",
              "      <th>28</th>\n",
              "      <td>NEW CANEY</td>\n",
              "      <td>0.0%</td>\n",
              "    </tr>\n",
              "    <tr>\n",
              "      <th>29</th>\n",
              "      <td>HEMPSTEAD</td>\n",
              "      <td>0.0%</td>\n",
              "    </tr>\n",
              "    <tr>\n",
              "      <th>30</th>\n",
              "      <td>2088</td>\n",
              "      <td>0.0%</td>\n",
              "    </tr>\n",
              "  </tbody>\n",
              "</table>\n",
              "</div>"
            ],
            "text/plain": [
              "            index percentage\n",
              "26            ***       0.0%\n",
              "27  MISSOURI CITY       0.0%\n",
              "28      NEW CANEY       0.0%\n",
              "29      HEMPSTEAD       0.0%\n",
              "30           2088       0.0%"
            ]
          },
          "execution_count": 14,
          "metadata": {},
          "output_type": "execute_result"
        }
      ],
      "source": [
        "table_1 = bottom_counter(nov_2022_voters, 'CITY')\n",
        "table_1"
      ]
    },
    {
      "cell_type": "code",
      "execution_count": 15,
      "metadata": {
        "colab": {
          "base_uri": "https://localhost:8080/",
          "height": 172
        },
        "id": "zPfyXcWjpPWK",
        "outputId": "09ed994d-b06d-4310-aa73-73d8830af884"
      },
      "outputs": [
        {
          "data": {
            "text/html": [
              "<div>\n",
              "<style scoped>\n",
              "    .dataframe tbody tr th:only-of-type {\n",
              "        vertical-align: middle;\n",
              "    }\n",
              "\n",
              "    .dataframe tbody tr th {\n",
              "        vertical-align: top;\n",
              "    }\n",
              "\n",
              "    .dataframe thead th {\n",
              "        text-align: right;\n",
              "    }\n",
              "</style>\n",
              "<table border=\"1\" class=\"dataframe\">\n",
              "  <thead>\n",
              "    <tr style=\"text-align: right;\">\n",
              "      <th></th>\n",
              "      <th>index</th>\n",
              "      <th>percentage</th>\n",
              "    </tr>\n",
              "  </thead>\n",
              "  <tbody>\n",
              "    <tr>\n",
              "      <th>27</th>\n",
              "      <td>MISSOURI CITY</td>\n",
              "      <td>0.0%</td>\n",
              "    </tr>\n",
              "    <tr>\n",
              "      <th>28</th>\n",
              "      <td>NEW CANEY</td>\n",
              "      <td>0.0%</td>\n",
              "    </tr>\n",
              "    <tr>\n",
              "      <th>29</th>\n",
              "      <td>HEMPSTEAD</td>\n",
              "      <td>0.0%</td>\n",
              "    </tr>\n",
              "  </tbody>\n",
              "</table>\n",
              "</div>"
            ],
            "text/plain": [
              "            index percentage\n",
              "27  MISSOURI CITY       0.0%\n",
              "28      NEW CANEY       0.0%\n",
              "29      HEMPSTEAD       0.0%"
            ]
          },
          "execution_count": 15,
          "metadata": {},
          "output_type": "execute_result"
        }
      ],
      "source": [
        "table_1 = table_1.drop([26,30], axis=0)\n",
        "table_1"
      ]
    },
    {
      "cell_type": "code",
      "execution_count": 16,
      "metadata": {
        "colab": {
          "base_uri": "https://localhost:8080/",
          "height": 206
        },
        "id": "-grL_kMYdZNL",
        "outputId": "14f84af9-9047-48dc-8d9b-bce13e44e45a"
      },
      "outputs": [
        {
          "data": {
            "text/html": [
              "<div>\n",
              "<style scoped>\n",
              "    .dataframe tbody tr th:only-of-type {\n",
              "        vertical-align: middle;\n",
              "    }\n",
              "\n",
              "    .dataframe tbody tr th {\n",
              "        vertical-align: top;\n",
              "    }\n",
              "\n",
              "    .dataframe thead th {\n",
              "        text-align: right;\n",
              "    }\n",
              "</style>\n",
              "<table border=\"1\" class=\"dataframe\">\n",
              "  <thead>\n",
              "    <tr style=\"text-align: right;\">\n",
              "      <th></th>\n",
              "      <th>index</th>\n",
              "      <th>percentage</th>\n",
              "    </tr>\n",
              "  </thead>\n",
              "  <tbody>\n",
              "    <tr>\n",
              "      <th>0</th>\n",
              "      <td>77433</td>\n",
              "      <td>3.1%</td>\n",
              "    </tr>\n",
              "    <tr>\n",
              "      <th>1</th>\n",
              "      <td>77429</td>\n",
              "      <td>3.0%</td>\n",
              "    </tr>\n",
              "    <tr>\n",
              "      <th>2</th>\n",
              "      <td>77379</td>\n",
              "      <td>2.8%</td>\n",
              "    </tr>\n",
              "    <tr>\n",
              "      <th>3</th>\n",
              "      <td>77346</td>\n",
              "      <td>2.2%</td>\n",
              "    </tr>\n",
              "    <tr>\n",
              "      <th>4</th>\n",
              "      <td>77449</td>\n",
              "      <td>2.2%</td>\n",
              "    </tr>\n",
              "  </tbody>\n",
              "</table>\n",
              "</div>"
            ],
            "text/plain": [
              "   index percentage\n",
              "0  77433       3.1%\n",
              "1  77429       3.0%\n",
              "2  77379       2.8%\n",
              "3  77346       2.2%\n",
              "4  77449       2.2%"
            ]
          },
          "execution_count": 16,
          "metadata": {},
          "output_type": "execute_result"
        }
      ],
      "source": [
        "ZIP_top_graph = top_counter(nov_2022_voters, 'ZIP')\n",
        "ZIP_top_graph"
      ]
    },
    {
      "cell_type": "code",
      "execution_count": 17,
      "metadata": {
        "colab": {
          "base_uri": "https://localhost:8080/",
          "height": 265
        },
        "id": "LskfJpk9rtU1",
        "outputId": "c014f5f5-6b84-477c-c375-f8ad05e4cfbd"
      },
      "outputs": [
        {
          "data": {
            "image/png": "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",
            "text/plain": [
              "<Figure size 640x480 with 1 Axes>"
            ]
          },
          "metadata": {},
          "output_type": "display_data"
        }
      ],
      "source": [
        "labels = ['77433', '77429', '77379', '77346', '77449']\n",
        "percentages = [3.1, 3.0, 2.8, 2.2, 2.2]\n",
        "\n",
        "# labels = ZIP_top_graph['index']\n",
        "# percentages = ZIP_top_graph['percentage']\n",
        "\n",
        "plt.bar(labels, percentages)\n",
        "\n",
        "for i, v in enumerate(percentages):\n",
        "    plt.annotate(str(v) + \"%\", \n",
        "                 xy=(i, v), \n",
        "                 xytext=(-14,2), \n",
        "                 textcoords='offset points',\n",
        "                 fontweight='bold')\n",
        "plt.show()"
      ]
    },
    {
      "cell_type": "code",
      "execution_count": 18,
      "metadata": {
        "colab": {
          "base_uri": "https://localhost:8080/",
          "height": 206
        },
        "id": "qhqnNrjFdsYP",
        "outputId": "a1bada80-b8c5-4e21-de13-f78a1502be8c"
      },
      "outputs": [
        {
          "data": {
            "text/html": [
              "<div>\n",
              "<style scoped>\n",
              "    .dataframe tbody tr th:only-of-type {\n",
              "        vertical-align: middle;\n",
              "    }\n",
              "\n",
              "    .dataframe tbody tr th {\n",
              "        vertical-align: top;\n",
              "    }\n",
              "\n",
              "    .dataframe thead th {\n",
              "        text-align: right;\n",
              "    }\n",
              "</style>\n",
              "<table border=\"1\" class=\"dataframe\">\n",
              "  <thead>\n",
              "    <tr style=\"text-align: right;\">\n",
              "      <th></th>\n",
              "      <th>index</th>\n",
              "      <th>percentage</th>\n",
              "    </tr>\n",
              "  </thead>\n",
              "  <tbody>\n",
              "    <tr>\n",
              "      <th>145</th>\n",
              "      <td>77565</td>\n",
              "      <td>0.0%</td>\n",
              "    </tr>\n",
              "    <tr>\n",
              "      <th>146</th>\n",
              "      <td>77386</td>\n",
              "      <td>0.0%</td>\n",
              "    </tr>\n",
              "    <tr>\n",
              "      <th>147</th>\n",
              "      <td>77539</td>\n",
              "      <td>0.0%</td>\n",
              "    </tr>\n",
              "    <tr>\n",
              "      <th>148</th>\n",
              "      <td>HOUSTON</td>\n",
              "      <td>0.0%</td>\n",
              "    </tr>\n",
              "    <tr>\n",
              "      <th>149</th>\n",
              "      <td>77340</td>\n",
              "      <td>0.0%</td>\n",
              "    </tr>\n",
              "  </tbody>\n",
              "</table>\n",
              "</div>"
            ],
            "text/plain": [
              "       index percentage\n",
              "145    77565       0.0%\n",
              "146    77386       0.0%\n",
              "147    77539       0.0%\n",
              "148  HOUSTON       0.0%\n",
              "149    77340       0.0%"
            ]
          },
          "execution_count": 18,
          "metadata": {},
          "output_type": "execute_result"
        }
      ],
      "source": [
        "bottom_counter(nov_2022_voters, 'ZIP')"
      ]
    },
    {
      "cell_type": "code",
      "execution_count": 19,
      "metadata": {
        "colab": {
          "base_uri": "https://localhost:8080/",
          "height": 206
        },
        "id": "VaFngZaodtED",
        "outputId": "bd6d41af-bf61-4a16-dfd8-13d4ecb8450c"
      },
      "outputs": [
        {
          "data": {
            "text/html": [
              "<div>\n",
              "<style scoped>\n",
              "    .dataframe tbody tr th:only-of-type {\n",
              "        vertical-align: middle;\n",
              "    }\n",
              "\n",
              "    .dataframe tbody tr th {\n",
              "        vertical-align: top;\n",
              "    }\n",
              "\n",
              "    .dataframe thead th {\n",
              "        text-align: right;\n",
              "    }\n",
              "</style>\n",
              "<table border=\"1\" class=\"dataframe\">\n",
              "  <thead>\n",
              "    <tr style=\"text-align: right;\">\n",
              "      <th></th>\n",
              "      <th>index</th>\n",
              "      <th>percentage</th>\n",
              "    </tr>\n",
              "  </thead>\n",
              "  <tbody>\n",
              "    <tr>\n",
              "      <th>0</th>\n",
              "      <td>F</td>\n",
              "      <td>55.0%</td>\n",
              "    </tr>\n",
              "    <tr>\n",
              "      <th>1</th>\n",
              "      <td>M</td>\n",
              "      <td>45.0%</td>\n",
              "    </tr>\n",
              "    <tr>\n",
              "      <th>2</th>\n",
              "      <td>0</td>\n",
              "      <td>0.0%</td>\n",
              "    </tr>\n",
              "    <tr>\n",
              "      <th>3</th>\n",
              "      <td>N</td>\n",
              "      <td>0.0%</td>\n",
              "    </tr>\n",
              "    <tr>\n",
              "      <th>4</th>\n",
              "      <td>1</td>\n",
              "      <td>0.0%</td>\n",
              "    </tr>\n",
              "  </tbody>\n",
              "</table>\n",
              "</div>"
            ],
            "text/plain": [
              "  index percentage\n",
              "0     F      55.0%\n",
              "1     M      45.0%\n",
              "2     0       0.0%\n",
              "3     N       0.0%\n",
              "4     1       0.0%"
            ]
          },
          "execution_count": 19,
          "metadata": {},
          "output_type": "execute_result"
        }
      ],
      "source": [
        "top_counter(nov_2022_voters, 'SEX')"
      ]
    },
    {
      "cell_type": "code",
      "execution_count": 13,
      "metadata": {
        "colab": {
          "base_uri": "https://localhost:8080/",
          "height": 248
        },
        "id": "LoZjFJp0t1IK",
        "outputId": "c9517c86-0398-49a7-8192-9d634a80ce64"
      },
      "outputs": [
        {
          "data": {
            "image/png": "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",
            "text/plain": [
              "<Figure size 640x480 with 1 Axes>"
            ]
          },
          "metadata": {},
          "output_type": "display_data"
        }
      ],
      "source": [
        "labels = ['Female', 'Male']\n",
        "percentages = [55.0, 45.0]\n",
        "\n",
        "plt.pie(percentages, labels=labels,autopct='%1.1f%%',explode = (0.1, 0))\n",
        "plt.show()"
      ]
    },
    {
      "cell_type": "code",
      "execution_count": 14,
      "metadata": {
        "colab": {
          "base_uri": "https://localhost:8080/",
          "height": 206
        },
        "id": "Zvd3FX_leWIB",
        "outputId": "35e7d498-182d-4cea-c708-94939ce970d5"
      },
      "outputs": [
        {
          "data": {
            "text/html": [
              "<div>\n",
              "<style scoped>\n",
              "    .dataframe tbody tr th:only-of-type {\n",
              "        vertical-align: middle;\n",
              "    }\n",
              "\n",
              "    .dataframe tbody tr th {\n",
              "        vertical-align: top;\n",
              "    }\n",
              "\n",
              "    .dataframe thead th {\n",
              "        text-align: right;\n",
              "    }\n",
              "</style>\n",
              "<table border=\"1\" class=\"dataframe\">\n",
              "  <thead>\n",
              "    <tr style=\"text-align: right;\">\n",
              "      <th></th>\n",
              "      <th>index</th>\n",
              "      <th>percentage</th>\n",
              "    </tr>\n",
              "  </thead>\n",
              "  <tbody>\n",
              "    <tr>\n",
              "      <th>0</th>\n",
              "      <td>Post War</td>\n",
              "      <td>25.1%</td>\n",
              "    </tr>\n",
              "    <tr>\n",
              "      <th>1</th>\n",
              "      <td>Millennial</td>\n",
              "      <td>24.1%</td>\n",
              "    </tr>\n",
              "    <tr>\n",
              "      <th>2</th>\n",
              "      <td>Boomer II</td>\n",
              "      <td>19.6%</td>\n",
              "    </tr>\n",
              "    <tr>\n",
              "      <th>3</th>\n",
              "      <td>Boomer I</td>\n",
              "      <td>13.6%</td>\n",
              "    </tr>\n",
              "    <tr>\n",
              "      <th>4</th>\n",
              "      <td>Gen X</td>\n",
              "      <td>9.9%</td>\n",
              "    </tr>\n",
              "  </tbody>\n",
              "</table>\n",
              "</div>"
            ],
            "text/plain": [
              "        index percentage\n",
              "0    Post War      25.1%\n",
              "1  Millennial      24.1%\n",
              "2   Boomer II      19.6%\n",
              "3    Boomer I      13.6%\n",
              "4       Gen X       9.9%"
            ]
          },
          "execution_count": 14,
          "metadata": {},
          "output_type": "execute_result"
        }
      ],
      "source": [
        "from datetime import datetime\n",
        "\n",
        "idx = nov_2022_voters['BIRTHYEAR'].apply(lambda x: True if type(x)==int else False)\n",
        "age_segment = nov_2022_voters[idx]\n",
        "age_segment = age_segment['BIRTHYEAR'].apply(lambda x: datetime.now().year - x)\n",
        "age_segment = age_segment.apply(lambda x: age_buckets(x)).reset_index(drop=True).to_frame()\n",
        "top_counter(age_segment, 'BIRTHYEAR')"
      ]
    },
    {
      "cell_type": "code",
      "execution_count": 22,
      "metadata": {
        "colab": {
          "base_uri": "https://localhost:8080/",
          "height": 206
        },
        "id": "scUqYn0Neh0p",
        "outputId": "747622eb-fb8e-4b66-e279-6f7da36a6d2b"
      },
      "outputs": [
        {
          "data": {
            "text/html": [
              "<div>\n",
              "<style scoped>\n",
              "    .dataframe tbody tr th:only-of-type {\n",
              "        vertical-align: middle;\n",
              "    }\n",
              "\n",
              "    .dataframe tbody tr th {\n",
              "        vertical-align: top;\n",
              "    }\n",
              "\n",
              "    .dataframe thead th {\n",
              "        text-align: right;\n",
              "    }\n",
              "</style>\n",
              "<table border=\"1\" class=\"dataframe\">\n",
              "  <thead>\n",
              "    <tr style=\"text-align: right;\">\n",
              "      <th></th>\n",
              "      <th>index</th>\n",
              "      <th>percentage</th>\n",
              "    </tr>\n",
              "  </thead>\n",
              "  <tbody>\n",
              "    <tr>\n",
              "      <th>1</th>\n",
              "      <td>Millennial</td>\n",
              "      <td>24.1%</td>\n",
              "    </tr>\n",
              "    <tr>\n",
              "      <th>2</th>\n",
              "      <td>Boomer II</td>\n",
              "      <td>19.6%</td>\n",
              "    </tr>\n",
              "    <tr>\n",
              "      <th>3</th>\n",
              "      <td>Boomer I</td>\n",
              "      <td>13.6%</td>\n",
              "    </tr>\n",
              "    <tr>\n",
              "      <th>4</th>\n",
              "      <td>Gen X</td>\n",
              "      <td>9.9%</td>\n",
              "    </tr>\n",
              "    <tr>\n",
              "      <th>5</th>\n",
              "      <td>Gen-Z</td>\n",
              "      <td>7.7%</td>\n",
              "    </tr>\n",
              "  </tbody>\n",
              "</table>\n",
              "</div>"
            ],
            "text/plain": [
              "        index percentage\n",
              "1  Millennial      24.1%\n",
              "2   Boomer II      19.6%\n",
              "3    Boomer I      13.6%\n",
              "4       Gen X       9.9%\n",
              "5       Gen-Z       7.7%"
            ]
          },
          "execution_count": 22,
          "metadata": {},
          "output_type": "execute_result"
        }
      ],
      "source": [
        "bottom_counter(age_segment, 'BIRTHYEAR')"
      ]
    },
    {
      "cell_type": "code",
      "execution_count": 23,
      "metadata": {
        "colab": {
          "base_uri": "https://localhost:8080/",
          "height": 265
        },
        "id": "r8puCWxsuyfz",
        "outputId": "50126213-ce8a-4289-d838-3297a8234dad"
      },
      "outputs": [
        {
          "data": {
            "image/png": "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",
            "text/plain": [
              "<Figure size 640x480 with 1 Axes>"
            ]
          },
          "metadata": {},
          "output_type": "display_data"
        }
      ],
      "source": [
        "labels = ['Post War', 'Milliennial', 'Boomer II', 'Boomer I', 'Gen X', 'Gen Z']\n",
        "percentages = [25.1, 24.1, 19.6, 13.6, 9.9, 7.7]\n",
        "\n",
        "plt.bar(labels, percentages)\n",
        "\n",
        "for i, v in enumerate(percentages):\n",
        "    plt.annotate(str(v) + \"%\", \n",
        "                 xy=(i, v), \n",
        "                 xytext=(-14,2), \n",
        "                 textcoords='offset points',\n",
        "                 fontweight='bold')\n",
        "plt.show()"
      ]
    },
    {
      "cell_type": "markdown",
      "metadata": {
        "id": "63GULCePjd7v"
      },
      "source": [
        "## Voters who did not turn out"
      ]
    },
    {
      "cell_type": "code",
      "execution_count": 24,
      "metadata": {
        "id": "ITTjfiEmixf2"
      },
      "outputs": [],
      "source": [
        "holder = pd.merge(all_voters, nov_2022_voters, left_on='Voter ID', right_on='Voter ID', how='outer', indicator=True)\n"
      ]
    },
    {
      "cell_type": "code",
      "execution_count": 25,
      "metadata": {
        "id": "xQcqYkgGkSib"
      },
      "outputs": [],
      "source": [
        "not_voted = holder[holder['_merge']=='left_only']"
      ]
    },
    {
      "cell_type": "code",
      "execution_count": 26,
      "metadata": {
        "colab": {
          "base_uri": "https://localhost:8080/",
          "height": 206
        },
        "id": "3NIYVD4QkbLF",
        "outputId": "caafe248-91bf-4938-9e8f-437bb0008ad3"
      },
      "outputs": [
        {
          "data": {
            "text/html": [
              "<div>\n",
              "<style scoped>\n",
              "    .dataframe tbody tr th:only-of-type {\n",
              "        vertical-align: middle;\n",
              "    }\n",
              "\n",
              "    .dataframe tbody tr th {\n",
              "        vertical-align: top;\n",
              "    }\n",
              "\n",
              "    .dataframe thead th {\n",
              "        text-align: right;\n",
              "    }\n",
              "</style>\n",
              "<table border=\"1\" class=\"dataframe\">\n",
              "  <thead>\n",
              "    <tr style=\"text-align: right;\">\n",
              "      <th></th>\n",
              "      <th>index</th>\n",
              "      <th>percentage</th>\n",
              "    </tr>\n",
              "  </thead>\n",
              "  <tbody>\n",
              "    <tr>\n",
              "      <th>0</th>\n",
              "      <td>HOUSTON</td>\n",
              "      <td>65.1%</td>\n",
              "    </tr>\n",
              "    <tr>\n",
              "      <th>1</th>\n",
              "      <td>SPRING</td>\n",
              "      <td>5.5%</td>\n",
              "    </tr>\n",
              "    <tr>\n",
              "      <th>2</th>\n",
              "      <td>KATY</td>\n",
              "      <td>5.5%</td>\n",
              "    </tr>\n",
              "    <tr>\n",
              "      <th>3</th>\n",
              "      <td>CYPRESS</td>\n",
              "      <td>4.5%</td>\n",
              "    </tr>\n",
              "    <tr>\n",
              "      <th>4</th>\n",
              "      <td>HUMBLE</td>\n",
              "      <td>4.0%</td>\n",
              "    </tr>\n",
              "  </tbody>\n",
              "</table>\n",
              "</div>"
            ],
            "text/plain": [
              "     index percentage\n",
              "0  HOUSTON      65.1%\n",
              "1   SPRING       5.5%\n",
              "2     KATY       5.5%\n",
              "3  CYPRESS       4.5%\n",
              "4   HUMBLE       4.0%"
            ]
          },
          "execution_count": 26,
          "metadata": {},
          "output_type": "execute_result"
        }
      ],
      "source": [
        "top_counter(not_voted, 'City')"
      ]
    },
    {
      "cell_type": "code",
      "execution_count": 27,
      "metadata": {
        "colab": {
          "base_uri": "https://localhost:8080/",
          "height": 265
        },
        "id": "6pt1xREovfZw",
        "outputId": "7db96c57-6ef9-4d67-fbe3-5bab3f42255b"
      },
      "outputs": [
        {
          "data": {
            "image/png": "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",
            "text/plain": [
              "<Figure size 640x480 with 1 Axes>"
            ]
          },
          "metadata": {},
          "output_type": "display_data"
        }
      ],
      "source": [
        "labels = ['Houston', 'Spring', 'Katy', 'Cypress', 'Humble']\n",
        "percentages = [65.1, 5.5, 5.5, 4.5, 4.0]\n",
        "\n",
        "plt.bar(labels, percentages)\n",
        "\n",
        "for i, v in enumerate(percentages):\n",
        "    plt.annotate(str(v) + \"%\", \n",
        "                 xy=(i, v), \n",
        "                 xytext=(-14,2), \n",
        "                 textcoords='offset points',\n",
        "                 fontweight='bold')\n",
        "plt.show()"
      ]
    },
    {
      "cell_type": "code",
      "execution_count": 28,
      "metadata": {
        "colab": {
          "base_uri": "https://localhost:8080/",
          "height": 206
        },
        "id": "lqkF9mielC2X",
        "outputId": "25de00a9-43b7-4e42-a22b-3c33433a4768"
      },
      "outputs": [
        {
          "data": {
            "text/html": [
              "<div>\n",
              "<style scoped>\n",
              "    .dataframe tbody tr th:only-of-type {\n",
              "        vertical-align: middle;\n",
              "    }\n",
              "\n",
              "    .dataframe tbody tr th {\n",
              "        vertical-align: top;\n",
              "    }\n",
              "\n",
              "    .dataframe thead th {\n",
              "        text-align: right;\n",
              "    }\n",
              "</style>\n",
              "<table border=\"1\" class=\"dataframe\">\n",
              "  <thead>\n",
              "    <tr style=\"text-align: right;\">\n",
              "      <th></th>\n",
              "      <th>index</th>\n",
              "      <th>percentage</th>\n",
              "    </tr>\n",
              "  </thead>\n",
              "  <tbody>\n",
              "    <tr>\n",
              "      <th>23</th>\n",
              "      <td>STAFFORD</td>\n",
              "      <td>0.1%</td>\n",
              "    </tr>\n",
              "    <tr>\n",
              "      <th>24</th>\n",
              "      <td>WALLER</td>\n",
              "      <td>0.1%</td>\n",
              "    </tr>\n",
              "    <tr>\n",
              "      <th>25</th>\n",
              "      <td>PORTER</td>\n",
              "      <td>0.0%</td>\n",
              "    </tr>\n",
              "    <tr>\n",
              "      <th>26</th>\n",
              "      <td>MISSOURI CITY</td>\n",
              "      <td>0.0%</td>\n",
              "    </tr>\n",
              "    <tr>\n",
              "      <th>27</th>\n",
              "      <td>NEW CANEY</td>\n",
              "      <td>0.0%</td>\n",
              "    </tr>\n",
              "  </tbody>\n",
              "</table>\n",
              "</div>"
            ],
            "text/plain": [
              "            index percentage\n",
              "23       STAFFORD       0.1%\n",
              "24         WALLER       0.1%\n",
              "25         PORTER       0.0%\n",
              "26  MISSOURI CITY       0.0%\n",
              "27      NEW CANEY       0.0%"
            ]
          },
          "execution_count": 28,
          "metadata": {},
          "output_type": "execute_result"
        }
      ],
      "source": [
        "bottom_counter(not_voted, 'City')"
      ]
    },
    {
      "cell_type": "code",
      "execution_count": 29,
      "metadata": {
        "colab": {
          "base_uri": "https://localhost:8080/",
          "height": 206
        },
        "id": "tA5UwOfylE6_",
        "outputId": "77f63f1c-f769-474d-e740-77ac296e6b28"
      },
      "outputs": [
        {
          "data": {
            "text/html": [
              "<div>\n",
              "<style scoped>\n",
              "    .dataframe tbody tr th:only-of-type {\n",
              "        vertical-align: middle;\n",
              "    }\n",
              "\n",
              "    .dataframe tbody tr th {\n",
              "        vertical-align: top;\n",
              "    }\n",
              "\n",
              "    .dataframe thead th {\n",
              "        text-align: right;\n",
              "    }\n",
              "</style>\n",
              "<table border=\"1\" class=\"dataframe\">\n",
              "  <thead>\n",
              "    <tr style=\"text-align: right;\">\n",
              "      <th></th>\n",
              "      <th>index</th>\n",
              "      <th>percentage</th>\n",
              "    </tr>\n",
              "  </thead>\n",
              "  <tbody>\n",
              "    <tr>\n",
              "      <th>0</th>\n",
              "      <td>77449.0</td>\n",
              "      <td>3.0%</td>\n",
              "    </tr>\n",
              "    <tr>\n",
              "      <th>1</th>\n",
              "      <td>77433.0</td>\n",
              "      <td>2.4%</td>\n",
              "    </tr>\n",
              "    <tr>\n",
              "      <th>2</th>\n",
              "      <td>77084.0</td>\n",
              "      <td>2.4%</td>\n",
              "    </tr>\n",
              "    <tr>\n",
              "      <th>3</th>\n",
              "      <td>77429.0</td>\n",
              "      <td>2.0%</td>\n",
              "    </tr>\n",
              "    <tr>\n",
              "      <th>4</th>\n",
              "      <td>77379.0</td>\n",
              "      <td>1.9%</td>\n",
              "    </tr>\n",
              "  </tbody>\n",
              "</table>\n",
              "</div>"
            ],
            "text/plain": [
              "     index percentage\n",
              "0  77449.0       3.0%\n",
              "1  77433.0       2.4%\n",
              "2  77084.0       2.4%\n",
              "3  77429.0       2.0%\n",
              "4  77379.0       1.9%"
            ]
          },
          "execution_count": 29,
          "metadata": {},
          "output_type": "execute_result"
        }
      ],
      "source": [
        "top_counter(not_voted, 'Zip')"
      ]
    },
    {
      "cell_type": "code",
      "execution_count": 30,
      "metadata": {
        "colab": {
          "base_uri": "https://localhost:8080/",
          "height": 206
        },
        "id": "nfpGUxAqWf6O",
        "outputId": "d8a54f0d-07ed-497d-c399-e8144aaac5bd"
      },
      "outputs": [
        {
          "data": {
            "text/html": [
              "<div>\n",
              "<style scoped>\n",
              "    .dataframe tbody tr th:only-of-type {\n",
              "        vertical-align: middle;\n",
              "    }\n",
              "\n",
              "    .dataframe tbody tr th {\n",
              "        vertical-align: top;\n",
              "    }\n",
              "\n",
              "    .dataframe thead th {\n",
              "        text-align: right;\n",
              "    }\n",
              "</style>\n",
              "<table border=\"1\" class=\"dataframe\">\n",
              "  <thead>\n",
              "    <tr style=\"text-align: right;\">\n",
              "      <th></th>\n",
              "      <th>index</th>\n",
              "      <th>percentage</th>\n",
              "    </tr>\n",
              "  </thead>\n",
              "  <tbody>\n",
              "    <tr>\n",
              "      <th>137</th>\n",
              "      <td>77523.0</td>\n",
              "      <td>0.0%</td>\n",
              "    </tr>\n",
              "    <tr>\n",
              "      <th>138</th>\n",
              "      <td>77507.0</td>\n",
              "      <td>0.0%</td>\n",
              "    </tr>\n",
              "    <tr>\n",
              "      <th>139</th>\n",
              "      <td>77010.0</td>\n",
              "      <td>0.0%</td>\n",
              "    </tr>\n",
              "    <tr>\n",
              "      <th>140</th>\n",
              "      <td>77357.0</td>\n",
              "      <td>0.0%</td>\n",
              "    </tr>\n",
              "    <tr>\n",
              "      <th>141</th>\n",
              "      <td>77535.0</td>\n",
              "      <td>0.0%</td>\n",
              "    </tr>\n",
              "  </tbody>\n",
              "</table>\n",
              "</div>"
            ],
            "text/plain": [
              "       index percentage\n",
              "137  77523.0       0.0%\n",
              "138  77507.0       0.0%\n",
              "139  77010.0       0.0%\n",
              "140  77357.0       0.0%\n",
              "141  77535.0       0.0%"
            ]
          },
          "execution_count": 30,
          "metadata": {},
          "output_type": "execute_result"
        }
      ],
      "source": [
        "bottom_counter(not_voted, 'Zip')"
      ]
    },
    {
      "cell_type": "code",
      "execution_count": 31,
      "metadata": {
        "colab": {
          "base_uri": "https://localhost:8080/",
          "height": 265
        },
        "id": "5cVg2MaDv-XG",
        "outputId": "1f7963ca-bb8c-4b5f-ff4a-788fea17b13f"
      },
      "outputs": [
        {
          "data": {
            "image/png": "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",
            "text/plain": [
              "<Figure size 640x480 with 1 Axes>"
            ]
          },
          "metadata": {},
          "output_type": "display_data"
        }
      ],
      "source": [
        "labels = ['77449', '77433', '77084', '77429', '77379']\n",
        "percentages = [3.0, 2.4, 2.4, 2.0, 1.9]\n",
        "\n",
        "plt.bar(labels, percentages)\n",
        "\n",
        "for i, v in enumerate(percentages):\n",
        "    plt.annotate(str(v) + \"%\", \n",
        "                 xy=(i, v), \n",
        "                 xytext=(-14,2), \n",
        "                 textcoords='offset points',\n",
        "                 fontweight='bold')\n",
        "plt.show()"
      ]
    },
    {
      "cell_type": "markdown",
      "metadata": {
        "id": "L2GKcDHunKMN"
      },
      "source": [
        "## GOTV Contacted"
      ]
    },
    {
      "cell_type": "code",
      "execution_count": 32,
      "metadata": {
        "colab": {
          "base_uri": "https://localhost:8080/",
          "height": 206
        },
        "id": "7rPMgZRvnLpO",
        "outputId": "09879451-77ad-4489-dbd8-bcc1bc59ebd6"
      },
      "outputs": [
        {
          "data": {
            "text/html": [
              "<div>\n",
              "<style scoped>\n",
              "    .dataframe tbody tr th:only-of-type {\n",
              "        vertical-align: middle;\n",
              "    }\n",
              "\n",
              "    .dataframe tbody tr th {\n",
              "        vertical-align: top;\n",
              "    }\n",
              "\n",
              "    .dataframe thead th {\n",
              "        text-align: right;\n",
              "    }\n",
              "</style>\n",
              "<table border=\"1\" class=\"dataframe\">\n",
              "  <thead>\n",
              "    <tr style=\"text-align: right;\">\n",
              "      <th></th>\n",
              "      <th>Voter ID</th>\n",
              "      <th>City</th>\n",
              "      <th>Zip5</th>\n",
              "      <th>Age</th>\n",
              "      <th>Sex</th>\n",
              "      <th>PrecinctName</th>\n",
              "    </tr>\n",
              "  </thead>\n",
              "  <tbody>\n",
              "    <tr>\n",
              "      <th>0</th>\n",
              "      <td>1122198569</td>\n",
              "      <td>Houston</td>\n",
              "      <td>77009</td>\n",
              "      <td>59</td>\n",
              "      <td>F</td>\n",
              "      <td>Harris - 0046</td>\n",
              "    </tr>\n",
              "    <tr>\n",
              "      <th>1</th>\n",
              "      <td>1114307920</td>\n",
              "      <td>Houston</td>\n",
              "      <td>77003</td>\n",
              "      <td>63</td>\n",
              "      <td>M</td>\n",
              "      <td>Harris - 0010</td>\n",
              "    </tr>\n",
              "    <tr>\n",
              "      <th>2</th>\n",
              "      <td>1186408232</td>\n",
              "      <td>Pasadena</td>\n",
              "      <td>77504</td>\n",
              "      <td>74</td>\n",
              "      <td>F</td>\n",
              "      <td>Harris - 0347</td>\n",
              "    </tr>\n",
              "    <tr>\n",
              "      <th>3</th>\n",
              "      <td>1161567574</td>\n",
              "      <td>Pasadena</td>\n",
              "      <td>77504</td>\n",
              "      <td>53</td>\n",
              "      <td>F</td>\n",
              "      <td>Harris - 0752</td>\n",
              "    </tr>\n",
              "    <tr>\n",
              "      <th>4</th>\n",
              "      <td>1068564056</td>\n",
              "      <td>Houston</td>\n",
              "      <td>77026</td>\n",
              "      <td>56</td>\n",
              "      <td>M</td>\n",
              "      <td>Harris - 0046</td>\n",
              "    </tr>\n",
              "  </tbody>\n",
              "</table>\n",
              "</div>"
            ],
            "text/plain": [
              "     Voter ID      City   Zip5  Age Sex   PrecinctName\n",
              "0  1122198569   Houston  77009   59   F  Harris - 0046\n",
              "1  1114307920   Houston  77003   63   M  Harris - 0010\n",
              "2  1186408232  Pasadena  77504   74   F  Harris - 0347\n",
              "3  1161567574  Pasadena  77504   53   F  Harris - 0752\n",
              "4  1068564056   Houston  77026   56   M  Harris - 0046"
            ]
          },
          "execution_count": 32,
          "metadata": {},
          "output_type": "execute_result"
        }
      ],
      "source": [
        "contacted_voters = pd.read_excel('content/GOTV_TargetVoters.xlsx')\n",
        "contacted_voters.head()"
      ]
    },
    {
      "cell_type": "code",
      "execution_count": 33,
      "metadata": {
        "colab": {
          "base_uri": "https://localhost:8080/",
          "height": 206
        },
        "id": "B1B1vjDZnUwk",
        "outputId": "dee26f6c-3591-4422-ecf8-4ea5475f62d1"
      },
      "outputs": [
        {
          "data": {
            "text/html": [
              "<div>\n",
              "<style scoped>\n",
              "    .dataframe tbody tr th:only-of-type {\n",
              "        vertical-align: middle;\n",
              "    }\n",
              "\n",
              "    .dataframe tbody tr th {\n",
              "        vertical-align: top;\n",
              "    }\n",
              "\n",
              "    .dataframe thead th {\n",
              "        text-align: right;\n",
              "    }\n",
              "</style>\n",
              "<table border=\"1\" class=\"dataframe\">\n",
              "  <thead>\n",
              "    <tr style=\"text-align: right;\">\n",
              "      <th></th>\n",
              "      <th>index</th>\n",
              "      <th>percentage</th>\n",
              "    </tr>\n",
              "  </thead>\n",
              "  <tbody>\n",
              "    <tr>\n",
              "      <th>0</th>\n",
              "      <td>Millennial</td>\n",
              "      <td>32.7%</td>\n",
              "    </tr>\n",
              "    <tr>\n",
              "      <th>1</th>\n",
              "      <td>Gen-Z</td>\n",
              "      <td>22.6%</td>\n",
              "    </tr>\n",
              "    <tr>\n",
              "      <th>2</th>\n",
              "      <td>Post War</td>\n",
              "      <td>18.0%</td>\n",
              "    </tr>\n",
              "    <tr>\n",
              "      <th>3</th>\n",
              "      <td>Boomer II</td>\n",
              "      <td>11.5%</td>\n",
              "    </tr>\n",
              "    <tr>\n",
              "      <th>4</th>\n",
              "      <td>Gen X</td>\n",
              "      <td>8.6%</td>\n",
              "    </tr>\n",
              "  </tbody>\n",
              "</table>\n",
              "</div>"
            ],
            "text/plain": [
              "        index percentage\n",
              "0  Millennial      32.7%\n",
              "1       Gen-Z      22.6%\n",
              "2    Post War      18.0%\n",
              "3   Boomer II      11.5%\n",
              "4       Gen X       8.6%"
            ]
          },
          "execution_count": 33,
          "metadata": {},
          "output_type": "execute_result"
        }
      ],
      "source": [
        "contacted_voters_age = contacted_voters['Age'].apply(lambda x: age_buckets(x)).reset_index(drop=True).to_frame()\n",
        "top_counter(contacted_voters_age, 'Age')\n"
      ]
    },
    {
      "cell_type": "code",
      "execution_count": 34,
      "metadata": {
        "colab": {
          "base_uri": "https://localhost:8080/",
          "height": 206
        },
        "id": "hyZGM20-yB5s",
        "outputId": "30040908-b9cd-4ebe-ce5b-f43250b884d9"
      },
      "outputs": [
        {
          "data": {
            "text/html": [
              "<div>\n",
              "<style scoped>\n",
              "    .dataframe tbody tr th:only-of-type {\n",
              "        vertical-align: middle;\n",
              "    }\n",
              "\n",
              "    .dataframe tbody tr th {\n",
              "        vertical-align: top;\n",
              "    }\n",
              "\n",
              "    .dataframe thead th {\n",
              "        text-align: right;\n",
              "    }\n",
              "</style>\n",
              "<table border=\"1\" class=\"dataframe\">\n",
              "  <thead>\n",
              "    <tr style=\"text-align: right;\">\n",
              "      <th></th>\n",
              "      <th>index</th>\n",
              "      <th>percentage</th>\n",
              "    </tr>\n",
              "  </thead>\n",
              "  <tbody>\n",
              "    <tr>\n",
              "      <th>1</th>\n",
              "      <td>Gen-Z</td>\n",
              "      <td>22.6%</td>\n",
              "    </tr>\n",
              "    <tr>\n",
              "      <th>2</th>\n",
              "      <td>Post War</td>\n",
              "      <td>18.0%</td>\n",
              "    </tr>\n",
              "    <tr>\n",
              "      <th>3</th>\n",
              "      <td>Boomer II</td>\n",
              "      <td>11.5%</td>\n",
              "    </tr>\n",
              "    <tr>\n",
              "      <th>4</th>\n",
              "      <td>Gen X</td>\n",
              "      <td>8.6%</td>\n",
              "    </tr>\n",
              "    <tr>\n",
              "      <th>5</th>\n",
              "      <td>Boomer I</td>\n",
              "      <td>6.5%</td>\n",
              "    </tr>\n",
              "  </tbody>\n",
              "</table>\n",
              "</div>"
            ],
            "text/plain": [
              "       index percentage\n",
              "1      Gen-Z      22.6%\n",
              "2   Post War      18.0%\n",
              "3  Boomer II      11.5%\n",
              "4      Gen X       8.6%\n",
              "5   Boomer I       6.5%"
            ]
          },
          "execution_count": 34,
          "metadata": {},
          "output_type": "execute_result"
        }
      ],
      "source": [
        "bottom_counter(contacted_voters_age, 'Age')"
      ]
    },
    {
      "cell_type": "code",
      "execution_count": 35,
      "metadata": {
        "colab": {
          "base_uri": "https://localhost:8080/",
          "height": 248
        },
        "id": "Btq7eK_uxZhS",
        "outputId": "4ad91999-0c11-4c5e-a2d5-72ed5dd246ea"
      },
      "outputs": [
        {
          "data": {
            "image/png": "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",
            "text/plain": [
              "<Figure size 640x480 with 1 Axes>"
            ]
          },
          "metadata": {},
          "output_type": "display_data"
        }
      ],
      "source": [
        "labels = ['Milliennial', 'Gen Z', 'Post War', 'Bomer II', 'Gen X', 'Boomer I']\n",
        "percentages = [32.7, 22.6, 18.0, 11.5, 8.6, 6.5]\n",
        "\n",
        "plt.pie(percentages, labels=labels,autopct='%1.1f%%',explode = (0.05, 0.05, 0.1, 0.1, 0.1, 0.1))\n",
        "plt.show()"
      ]
    },
    {
      "cell_type": "code",
      "execution_count": 36,
      "metadata": {
        "colab": {
          "base_uri": "https://localhost:8080/",
          "height": 143
        },
        "id": "0lWTh-VooEWJ",
        "outputId": "e5060e39-c9ce-4125-bc2b-65ab75912884"
      },
      "outputs": [
        {
          "data": {
            "text/html": [
              "<div>\n",
              "<style scoped>\n",
              "    .dataframe tbody tr th:only-of-type {\n",
              "        vertical-align: middle;\n",
              "    }\n",
              "\n",
              "    .dataframe tbody tr th {\n",
              "        vertical-align: top;\n",
              "    }\n",
              "\n",
              "    .dataframe thead th {\n",
              "        text-align: right;\n",
              "    }\n",
              "</style>\n",
              "<table border=\"1\" class=\"dataframe\">\n",
              "  <thead>\n",
              "    <tr style=\"text-align: right;\">\n",
              "      <th></th>\n",
              "      <th>index</th>\n",
              "      <th>percentage</th>\n",
              "    </tr>\n",
              "  </thead>\n",
              "  <tbody>\n",
              "    <tr>\n",
              "      <th>0</th>\n",
              "      <td>M</td>\n",
              "      <td>49.9%</td>\n",
              "    </tr>\n",
              "    <tr>\n",
              "      <th>1</th>\n",
              "      <td>F</td>\n",
              "      <td>49.9%</td>\n",
              "    </tr>\n",
              "    <tr>\n",
              "      <th>2</th>\n",
              "      <td>U</td>\n",
              "      <td>0.3%</td>\n",
              "    </tr>\n",
              "  </tbody>\n",
              "</table>\n",
              "</div>"
            ],
            "text/plain": [
              "  index percentage\n",
              "0     M      49.9%\n",
              "1     F      49.9%\n",
              "2     U       0.3%"
            ]
          },
          "execution_count": 36,
          "metadata": {},
          "output_type": "execute_result"
        }
      ],
      "source": [
        "top_counter(contacted_voters, 'Sex')\n"
      ]
    },
    {
      "cell_type": "code",
      "execution_count": 37,
      "metadata": {
        "colab": {
          "base_uri": "https://localhost:8080/",
          "height": 265
        },
        "id": "Kc6zlb41zR1X",
        "outputId": "fae391e8-85b3-4443-af9a-0ccacbf2c67f"
      },
      "outputs": [
        {
          "data": {
            "image/png": "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",
            "text/plain": [
              "<Figure size 640x480 with 1 Axes>"
            ]
          },
          "metadata": {},
          "output_type": "display_data"
        }
      ],
      "source": [
        "labels = ['Male', 'Female', 'Unspecified']\n",
        "percentages = [49.9, 49.9, 0.3]\n",
        "\n",
        "plt.bar(labels, percentages)\n",
        "\n",
        "for i, v in enumerate(percentages):\n",
        "    plt.annotate(str(v) + \"%\", \n",
        "                 xy=(i, v), \n",
        "                 xytext=(-14,2), \n",
        "                 textcoords='offset points',\n",
        "                 fontweight='bold')\n",
        "plt.show()"
      ]
    },
    {
      "cell_type": "code",
      "execution_count": 38,
      "metadata": {
        "colab": {
          "base_uri": "https://localhost:8080/"
        },
        "id": "l2yRmQwfoM5x",
        "outputId": "aed30255-560c-4e3e-ceb3-c584202f36af"
      },
      "outputs": [
        {
          "name": "stdout",
          "output_type": "stream",
          "text": [
            "Contacted Voters 22046\n",
            "Contacted Voters who voted 3560\n"
          ]
        },
        {
          "data": {
            "text/plain": [
              "0.16148054068765308"
            ]
          },
          "execution_count": 38,
          "metadata": {},
          "output_type": "execute_result"
        }
      ],
      "source": [
        "contacted_voters_who_voted = pd.merge(contacted_voters, nov_2022_voters, on='Voter ID', how='inner')\n",
        "print('Contacted Voters', contacted_voters.shape[0])\n",
        "print('Contacted Voters who voted', contacted_voters_who_voted.shape[0])\n",
        "contacted_voters_who_voted.shape[0] / contacted_voters.shape[0]"
      ]
    },
    {
      "cell_type": "code",
      "execution_count": 39,
      "metadata": {
        "colab": {
          "base_uri": "https://localhost:8080/",
          "height": 248
        },
        "id": "VHwzqmyu1P-I",
        "outputId": "d1fedbb4-d98a-4871-a928-0615644f12ba"
      },
      "outputs": [
        {
          "data": {
            "image/png": "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",
            "text/plain": [
              "<Figure size 640x480 with 1 Axes>"
            ]
          },
          "metadata": {},
          "output_type": "display_data"
        }
      ],
      "source": [
        "labels = ['Voted', 'Did not Vote']\n",
        "percentages = [3560, 18486]\n",
        "\n",
        "plt.pie(percentages, labels=labels,autopct='%1.1f%%',explode = (0.1, 0))\n",
        "plt.show()"
      ]
    },
    {
      "cell_type": "code",
      "execution_count": 40,
      "metadata": {
        "colab": {
          "base_uri": "https://localhost:8080/",
          "height": 206
        },
        "id": "QJe1__r7oYuM",
        "outputId": "7e550d16-2296-4475-ce55-30c676ea2948"
      },
      "outputs": [
        {
          "data": {
            "text/html": [
              "<div>\n",
              "<style scoped>\n",
              "    .dataframe tbody tr th:only-of-type {\n",
              "        vertical-align: middle;\n",
              "    }\n",
              "\n",
              "    .dataframe tbody tr th {\n",
              "        vertical-align: top;\n",
              "    }\n",
              "\n",
              "    .dataframe thead th {\n",
              "        text-align: right;\n",
              "    }\n",
              "</style>\n",
              "<table border=\"1\" class=\"dataframe\">\n",
              "  <thead>\n",
              "    <tr style=\"text-align: right;\">\n",
              "      <th></th>\n",
              "      <th>index</th>\n",
              "      <th>percentage</th>\n",
              "    </tr>\n",
              "  </thead>\n",
              "  <tbody>\n",
              "    <tr>\n",
              "      <th>0</th>\n",
              "      <td>Millennial</td>\n",
              "      <td>32.7%</td>\n",
              "    </tr>\n",
              "    <tr>\n",
              "      <th>1</th>\n",
              "      <td>Gen-Z</td>\n",
              "      <td>26.0%</td>\n",
              "    </tr>\n",
              "    <tr>\n",
              "      <th>2</th>\n",
              "      <td>Post War</td>\n",
              "      <td>14.8%</td>\n",
              "    </tr>\n",
              "    <tr>\n",
              "      <th>3</th>\n",
              "      <td>Boomer II</td>\n",
              "      <td>11.4%</td>\n",
              "    </tr>\n",
              "    <tr>\n",
              "      <th>4</th>\n",
              "      <td>Boomer I</td>\n",
              "      <td>7.6%</td>\n",
              "    </tr>\n",
              "  </tbody>\n",
              "</table>\n",
              "</div>"
            ],
            "text/plain": [
              "        index percentage\n",
              "0  Millennial      32.7%\n",
              "1       Gen-Z      26.0%\n",
              "2    Post War      14.8%\n",
              "3   Boomer II      11.4%\n",
              "4    Boomer I       7.6%"
            ]
          },
          "execution_count": 40,
          "metadata": {},
          "output_type": "execute_result"
        }
      ],
      "source": [
        "contacted_voters_who_voted_ = contacted_voters_who_voted['Age'].apply(lambda x: age_buckets(x)).reset_index(drop=True).to_frame()\n",
        "top_counter(contacted_voters_who_voted_, 'Age')\n"
      ]
    },
    {
      "cell_type": "code",
      "execution_count": 41,
      "metadata": {
        "colab": {
          "base_uri": "https://localhost:8080/",
          "height": 206
        },
        "id": "emkQH5F-142j",
        "outputId": "430d2fa8-6374-483b-e468-767a186232fe"
      },
      "outputs": [
        {
          "data": {
            "text/html": [
              "<div>\n",
              "<style scoped>\n",
              "    .dataframe tbody tr th:only-of-type {\n",
              "        vertical-align: middle;\n",
              "    }\n",
              "\n",
              "    .dataframe tbody tr th {\n",
              "        vertical-align: top;\n",
              "    }\n",
              "\n",
              "    .dataframe thead th {\n",
              "        text-align: right;\n",
              "    }\n",
              "</style>\n",
              "<table border=\"1\" class=\"dataframe\">\n",
              "  <thead>\n",
              "    <tr style=\"text-align: right;\">\n",
              "      <th></th>\n",
              "      <th>index</th>\n",
              "      <th>percentage</th>\n",
              "    </tr>\n",
              "  </thead>\n",
              "  <tbody>\n",
              "    <tr>\n",
              "      <th>1</th>\n",
              "      <td>Gen-Z</td>\n",
              "      <td>26.0%</td>\n",
              "    </tr>\n",
              "    <tr>\n",
              "      <th>2</th>\n",
              "      <td>Post War</td>\n",
              "      <td>14.8%</td>\n",
              "    </tr>\n",
              "    <tr>\n",
              "      <th>3</th>\n",
              "      <td>Boomer II</td>\n",
              "      <td>11.4%</td>\n",
              "    </tr>\n",
              "    <tr>\n",
              "      <th>4</th>\n",
              "      <td>Boomer I</td>\n",
              "      <td>7.6%</td>\n",
              "    </tr>\n",
              "    <tr>\n",
              "      <th>5</th>\n",
              "      <td>Gen X</td>\n",
              "      <td>7.5%</td>\n",
              "    </tr>\n",
              "  </tbody>\n",
              "</table>\n",
              "</div>"
            ],
            "text/plain": [
              "       index percentage\n",
              "1      Gen-Z      26.0%\n",
              "2   Post War      14.8%\n",
              "3  Boomer II      11.4%\n",
              "4   Boomer I       7.6%\n",
              "5      Gen X       7.5%"
            ]
          },
          "execution_count": 41,
          "metadata": {},
          "output_type": "execute_result"
        }
      ],
      "source": [
        "bottom_counter(contacted_voters_who_voted_, 'Age')"
      ]
    },
    {
      "cell_type": "code",
      "execution_count": 42,
      "metadata": {
        "colab": {
          "base_uri": "https://localhost:8080/",
          "height": 248
        },
        "id": "HtX4zOM52Gmm",
        "outputId": "abb8bcdf-db81-455a-deb8-3ab5d5c77be9"
      },
      "outputs": [
        {
          "data": {
            "image/png": "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",
            "text/plain": [
              "<Figure size 640x480 with 1 Axes>"
            ]
          },
          "metadata": {},
          "output_type": "display_data"
        }
      ],
      "source": [
        "labels = ['Boomer I', 'Gen Z', 'Post War', 'Boomer II', 'Millennial', 'Gen X']\n",
        "percentages = [7.6, 26.0, 14.8, 11.4, 32.7, 7.5]\n",
        "\n",
        "plt.pie(percentages, labels=labels,autopct='%1.1f%%',explode = (0.05, 0.05, 0.05, 0.05, 0.05, 0.05))\n",
        "plt.show()"
      ]
    },
    {
      "cell_type": "code",
      "execution_count": 43,
      "metadata": {
        "colab": {
          "base_uri": "https://localhost:8080/",
          "height": 175
        },
        "id": "NbbOdiANpLur",
        "outputId": "ba6f5bc6-ec2f-4e7e-c8ae-47e500925de0"
      },
      "outputs": [
        {
          "data": {
            "text/html": [
              "<div>\n",
              "<style scoped>\n",
              "    .dataframe tbody tr th:only-of-type {\n",
              "        vertical-align: middle;\n",
              "    }\n",
              "\n",
              "    .dataframe tbody tr th {\n",
              "        vertical-align: top;\n",
              "    }\n",
              "\n",
              "    .dataframe thead th {\n",
              "        text-align: right;\n",
              "    }\n",
              "</style>\n",
              "<table border=\"1\" class=\"dataframe\">\n",
              "  <thead>\n",
              "    <tr style=\"text-align: right;\">\n",
              "      <th></th>\n",
              "      <th>index</th>\n",
              "      <th>percentage</th>\n",
              "    </tr>\n",
              "  </thead>\n",
              "  <tbody>\n",
              "    <tr>\n",
              "      <th>0</th>\n",
              "      <td>E</td>\n",
              "      <td>51.2%</td>\n",
              "    </tr>\n",
              "    <tr>\n",
              "      <th>1</th>\n",
              "      <td>P</td>\n",
              "      <td>45.6%</td>\n",
              "    </tr>\n",
              "    <tr>\n",
              "      <th>2</th>\n",
              "      <td>M</td>\n",
              "      <td>2.3%</td>\n",
              "    </tr>\n",
              "    <tr>\n",
              "      <th>3</th>\n",
              "      <td>Z</td>\n",
              "      <td>0.8%</td>\n",
              "    </tr>\n",
              "  </tbody>\n",
              "</table>\n",
              "</div>"
            ],
            "text/plain": [
              "  index percentage\n",
              "0     E      51.2%\n",
              "1     P      45.6%\n",
              "2     M       2.3%\n",
              "3     Z       0.8%"
            ]
          },
          "execution_count": 43,
          "metadata": {},
          "output_type": "execute_result"
        }
      ],
      "source": [
        "top_counter(contacted_voters_who_voted, 'VOTE_TYPE')\n"
      ]
    },
    {
      "cell_type": "code",
      "execution_count": 44,
      "metadata": {
        "colab": {
          "base_uri": "https://localhost:8080/",
          "height": 175
        },
        "id": "nWglkjeL3f6T",
        "outputId": "a13f8846-465a-4ff6-f903-3f5abb53bbbc"
      },
      "outputs": [
        {
          "data": {
            "text/html": [
              "<div>\n",
              "<style scoped>\n",
              "    .dataframe tbody tr th:only-of-type {\n",
              "        vertical-align: middle;\n",
              "    }\n",
              "\n",
              "    .dataframe tbody tr th {\n",
              "        vertical-align: top;\n",
              "    }\n",
              "\n",
              "    .dataframe thead th {\n",
              "        text-align: right;\n",
              "    }\n",
              "</style>\n",
              "<table border=\"1\" class=\"dataframe\">\n",
              "  <thead>\n",
              "    <tr style=\"text-align: right;\">\n",
              "      <th></th>\n",
              "      <th>index</th>\n",
              "      <th>percentage</th>\n",
              "    </tr>\n",
              "  </thead>\n",
              "  <tbody>\n",
              "    <tr>\n",
              "      <th>0</th>\n",
              "      <td>E</td>\n",
              "      <td>51.2%</td>\n",
              "    </tr>\n",
              "    <tr>\n",
              "      <th>1</th>\n",
              "      <td>P</td>\n",
              "      <td>45.6%</td>\n",
              "    </tr>\n",
              "    <tr>\n",
              "      <th>2</th>\n",
              "      <td>M</td>\n",
              "      <td>2.3%</td>\n",
              "    </tr>\n",
              "    <tr>\n",
              "      <th>3</th>\n",
              "      <td>Z</td>\n",
              "      <td>0.8%</td>\n",
              "    </tr>\n",
              "  </tbody>\n",
              "</table>\n",
              "</div>"
            ],
            "text/plain": [
              "  index percentage\n",
              "0     E      51.2%\n",
              "1     P      45.6%\n",
              "2     M       2.3%\n",
              "3     Z       0.8%"
            ]
          },
          "execution_count": 44,
          "metadata": {},
          "output_type": "execute_result"
        }
      ],
      "source": [
        "bottom_counter(contacted_voters_who_voted, 'VOTE_TYPE')\n"
      ]
    },
    {
      "cell_type": "code",
      "execution_count": 45,
      "metadata": {
        "colab": {
          "base_uri": "https://localhost:8080/",
          "height": 265
        },
        "id": "K7JbdZGB3PTQ",
        "outputId": "7d5ad392-a459-428a-bb69-832a929588bd"
      },
      "outputs": [
        {
          "data": {
            "image/png": "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",
            "text/plain": [
              "<Figure size 640x480 with 1 Axes>"
            ]
          },
          "metadata": {},
          "output_type": "display_data"
        }
      ],
      "source": [
        "labels = ['In Person', 'Election Day', 'Mail-in-Vote', 'Provisional']\n",
        "percentages = [45.6, 51.2, 2.3, 0.8]\n",
        "\n",
        "plt.bar(labels, percentages)\n",
        "\n",
        "for i, v in enumerate(percentages):\n",
        "    plt.annotate(str(v) + \"%\", \n",
        "                 xy=(i, v), \n",
        "                 xytext=(-14,2), \n",
        "                 textcoords='offset points',\n",
        "                 fontweight='bold')\n",
        "plt.show()"
      ]
    },
    {
      "cell_type": "markdown",
      "metadata": {
        "id": "iTN-eQ2uhZEc"
      },
      "source": [
        "## COST TABULATION"
      ]
    },
    {
      "cell_type": "code",
      "execution_count": 46,
      "metadata": {
        "id": "rHwfx6lJpho9"
      },
      "outputs": [],
      "source": [
        "\n",
        "estimates = {\n",
        "    'unit_cost' : {\n",
        "        'Door' : 2,\n",
        "        'Postcard': 0.35,\n",
        "        'Text': 0.06,\n",
        "        'Call': 0.13\n",
        "    },\n",
        "    'attempts' : {\n",
        "        'Door' : 7010,\n",
        "        'Postcard' : 37429,\n",
        "        'Call' : 13031,\n",
        "        'Text' : 18656,\n",
        "    }\n",
        "}"
      ]
    },
    {
      "cell_type": "code",
      "execution_count": 47,
      "metadata": {
        "colab": {
          "base_uri": "https://localhost:8080/",
          "height": 175
        },
        "id": "g8eb2NQ9sLNC",
        "outputId": "d505538d-7acc-4ac2-e154-c46122dd492e"
      },
      "outputs": [
        {
          "data": {
            "text/html": [
              "<div>\n",
              "<style scoped>\n",
              "    .dataframe tbody tr th:only-of-type {\n",
              "        vertical-align: middle;\n",
              "    }\n",
              "\n",
              "    .dataframe tbody tr th {\n",
              "        vertical-align: top;\n",
              "    }\n",
              "\n",
              "    .dataframe thead th {\n",
              "        text-align: right;\n",
              "    }\n",
              "</style>\n",
              "<table border=\"1\" class=\"dataframe\">\n",
              "  <thead>\n",
              "    <tr style=\"text-align: right;\">\n",
              "      <th></th>\n",
              "      <th>method</th>\n",
              "      <th>unit_cost</th>\n",
              "      <th>attempts</th>\n",
              "      <th>total_costs</th>\n",
              "    </tr>\n",
              "  </thead>\n",
              "  <tbody>\n",
              "    <tr>\n",
              "      <th>0</th>\n",
              "      <td>Door</td>\n",
              "      <td>2.00</td>\n",
              "      <td>7010</td>\n",
              "      <td>14020.00</td>\n",
              "    </tr>\n",
              "    <tr>\n",
              "      <th>1</th>\n",
              "      <td>Postcard</td>\n",
              "      <td>0.35</td>\n",
              "      <td>37429</td>\n",
              "      <td>13100.15</td>\n",
              "    </tr>\n",
              "    <tr>\n",
              "      <th>2</th>\n",
              "      <td>Text</td>\n",
              "      <td>0.06</td>\n",
              "      <td>18656</td>\n",
              "      <td>1119.36</td>\n",
              "    </tr>\n",
              "    <tr>\n",
              "      <th>3</th>\n",
              "      <td>Call</td>\n",
              "      <td>0.13</td>\n",
              "      <td>13031</td>\n",
              "      <td>1694.03</td>\n",
              "    </tr>\n",
              "  </tbody>\n",
              "</table>\n",
              "</div>"
            ],
            "text/plain": [
              "     method  unit_cost  attempts  total_costs\n",
              "0      Door       2.00      7010     14020.00\n",
              "1  Postcard       0.35     37429     13100.15\n",
              "2      Text       0.06     18656      1119.36\n",
              "3      Call       0.13     13031      1694.03"
            ]
          },
          "execution_count": 47,
          "metadata": {},
          "output_type": "execute_result"
        }
      ],
      "source": [
        "costs = pd.DataFrame(estimates).reset_index().rename({'index':'method'}, axis=1)\n",
        "costs['total_costs'] = costs['unit_cost'] * costs['attempts']\n",
        "# for i, v in enumerate(costs):\n",
        "#     plt.annotate('$' + str(v) , \n",
        "#                  xy=(i, v), \n",
        "#                  xytext=(5,5), \n",
        "#                  textcoords='offset points',\n",
        "#                  fontweight='bold')\n",
        "costs"
      ]
    },
    {
      "cell_type": "code",
      "execution_count": 48,
      "metadata": {
        "colab": {
          "base_uri": "https://localhost:8080/"
        },
        "id": "1L0DL9rVsTCG",
        "outputId": "5d0cb3f4-a84d-4458-d5b4-867e8ede9bda"
      },
      "outputs": [
        {
          "data": {
            "text/plain": [
              "('Total Costs', 29933.54)"
            ]
          },
          "execution_count": 48,
          "metadata": {},
          "output_type": "execute_result"
        }
      ],
      "source": [
        "'Total Costs', costs['total_costs'].sum()"
      ]
    },
    {
      "cell_type": "code",
      "execution_count": 49,
      "metadata": {
        "colab": {
          "base_uri": "https://localhost:8080/"
        },
        "id": "E8H4IJBFtA-k",
        "outputId": "5c903540-898b-4490-e4af-00beb7155d94"
      },
      "outputs": [
        {
          "name": "stdout",
          "output_type": "stream",
          "text": [
            "Cost per vote 8.40829775280899\n"
          ]
        }
      ],
      "source": [
        "print('Cost per vote', costs['total_costs'].sum() / contacted_voters_who_voted.shape[0] )"
      ]
    },
    {
      "cell_type": "markdown",
      "metadata": {
        "id": "kd8oGyKOuTdl"
      },
      "source": [
        "What are the demographic characteristics of precincts with a higher turnout rate?\n"
      ]
    },
    {
      "cell_type": "markdown",
      "metadata": {
        "id": "D6QeRS6J8oPt"
      },
      "source": [
        "The Age range of the voters from the top Precincts"
      ]
    },
    {
      "cell_type": "code",
      "execution_count": 50,
      "metadata": {
        "colab": {
          "base_uri": "https://localhost:8080/",
          "height": 206
        },
        "id": "4acINQpUuXYq",
        "outputId": "5981defd-4339-4798-9c90-010a5fd693d3"
      },
      "outputs": [
        {
          "data": {
            "text/html": [
              "<div>\n",
              "<style scoped>\n",
              "    .dataframe tbody tr th:only-of-type {\n",
              "        vertical-align: middle;\n",
              "    }\n",
              "\n",
              "    .dataframe tbody tr th {\n",
              "        vertical-align: top;\n",
              "    }\n",
              "\n",
              "    .dataframe thead th {\n",
              "        text-align: right;\n",
              "    }\n",
              "</style>\n",
              "<table border=\"1\" class=\"dataframe\">\n",
              "  <thead>\n",
              "    <tr style=\"text-align: right;\">\n",
              "      <th></th>\n",
              "      <th>index</th>\n",
              "      <th>percentage</th>\n",
              "    </tr>\n",
              "  </thead>\n",
              "  <tbody>\n",
              "    <tr>\n",
              "      <th>0</th>\n",
              "      <td>Millennial</td>\n",
              "      <td>26.1%</td>\n",
              "    </tr>\n",
              "    <tr>\n",
              "      <th>1</th>\n",
              "      <td>Post War</td>\n",
              "      <td>25.1%</td>\n",
              "    </tr>\n",
              "    <tr>\n",
              "      <th>2</th>\n",
              "      <td>Boomer II</td>\n",
              "      <td>18.3%</td>\n",
              "    </tr>\n",
              "    <tr>\n",
              "      <th>3</th>\n",
              "      <td>Gen X</td>\n",
              "      <td>12.2%</td>\n",
              "    </tr>\n",
              "    <tr>\n",
              "      <th>4</th>\n",
              "      <td>Boomer I</td>\n",
              "      <td>12.1%</td>\n",
              "    </tr>\n",
              "  </tbody>\n",
              "</table>\n",
              "</div>"
            ],
            "text/plain": [
              "        index percentage\n",
              "0  Millennial      26.1%\n",
              "1    Post War      25.1%\n",
              "2   Boomer II      18.3%\n",
              "3       Gen X      12.2%\n",
              "4    Boomer I      12.1%"
            ]
          },
          "execution_count": 50,
          "metadata": {},
          "output_type": "execute_result"
        }
      ],
      "source": [
        "top_precincts = top_counter(nov_2022_voters, 'Voting Precinct')\n",
        "top_precincts = top_precincts['index'].to_list()\n",
        "\n",
        "top_precints_data = nov_2022_voters[nov_2022_voters['Voting Precinct'].isin(top_precincts)]\n",
        "\n",
        "idx = top_precints_data['BIRTHYEAR'].apply(lambda x: True if type(x)==int else False)\n",
        "age_segment = top_precints_data[idx]\n",
        "age_segment = age_segment['BIRTHYEAR'].apply(lambda x: datetime.now().year - x)\n",
        "age_segment = age_segment.apply(lambda x: age_buckets(x)).reset_index(drop=True).to_frame()\n",
        "top_counter(age_segment, 'BIRTHYEAR')"
      ]
    },
    {
      "cell_type": "code",
      "execution_count": 51,
      "metadata": {
        "colab": {
          "base_uri": "https://localhost:8080/",
          "height": 265
        },
        "id": "-B7gtpdU9hid",
        "outputId": "6b5fe7bd-ced3-47e5-f7a0-72c9df30d9ae"
      },
      "outputs": [
        {
          "data": {
            "image/png": "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",
            "text/plain": [
              "<Figure size 640x480 with 1 Axes>"
            ]
          },
          "metadata": {},
          "output_type": "display_data"
        }
      ],
      "source": [
        "labels = ['Millennial', 'Post War', 'Boomer II', 'Gen X', 'Boomer I', 'Gen Z']\n",
        "percentages = [26.1, 25.1, 18.3, 12.2, 12.1, 6.2]\n",
        "\n",
        "plt.bar(labels, percentages)\n",
        "\n",
        "for i, v in enumerate(percentages):\n",
        "    plt.annotate(str(v) + \"%\", \n",
        "                 xy=(i, v), \n",
        "                 xytext=(-14,2), \n",
        "                 textcoords='offset points',\n",
        "                 fontweight='bold')\n",
        "plt.show()"
      ]
    },
    {
      "cell_type": "markdown",
      "metadata": {
        "id": "k6BhegRi9MzW"
      },
      "source": [
        "The Age range of the voters from the bottom Precincts"
      ]
    },
    {
      "cell_type": "code",
      "execution_count": 52,
      "metadata": {
        "colab": {
          "base_uri": "https://localhost:8080/",
          "height": 206
        },
        "id": "vpLZoqFvuUFk",
        "outputId": "41b43f62-f01a-4125-e950-96e9eb94b6c6"
      },
      "outputs": [
        {
          "data": {
            "text/html": [
              "<div>\n",
              "<style scoped>\n",
              "    .dataframe tbody tr th:only-of-type {\n",
              "        vertical-align: middle;\n",
              "    }\n",
              "\n",
              "    .dataframe tbody tr th {\n",
              "        vertical-align: top;\n",
              "    }\n",
              "\n",
              "    .dataframe thead th {\n",
              "        text-align: right;\n",
              "    }\n",
              "</style>\n",
              "<table border=\"1\" class=\"dataframe\">\n",
              "  <thead>\n",
              "    <tr style=\"text-align: right;\">\n",
              "      <th></th>\n",
              "      <th>index</th>\n",
              "      <th>percentage</th>\n",
              "    </tr>\n",
              "  </thead>\n",
              "  <tbody>\n",
              "    <tr>\n",
              "      <th>0</th>\n",
              "      <td>Millennial</td>\n",
              "      <td>25.0%</td>\n",
              "    </tr>\n",
              "    <tr>\n",
              "      <th>1</th>\n",
              "      <td>Boomer II</td>\n",
              "      <td>25.0%</td>\n",
              "    </tr>\n",
              "    <tr>\n",
              "      <th>2</th>\n",
              "      <td>Boomer I</td>\n",
              "      <td>16.7%</td>\n",
              "    </tr>\n",
              "    <tr>\n",
              "      <th>3</th>\n",
              "      <td>Post War</td>\n",
              "      <td>16.7%</td>\n",
              "    </tr>\n",
              "    <tr>\n",
              "      <th>4</th>\n",
              "      <td>Gen-Z</td>\n",
              "      <td>16.7%</td>\n",
              "    </tr>\n",
              "  </tbody>\n",
              "</table>\n",
              "</div>"
            ],
            "text/plain": [
              "        index percentage\n",
              "0  Millennial      25.0%\n",
              "1   Boomer II      25.0%\n",
              "2    Boomer I      16.7%\n",
              "3    Post War      16.7%\n",
              "4       Gen-Z      16.7%"
            ]
          },
          "execution_count": 52,
          "metadata": {},
          "output_type": "execute_result"
        }
      ],
      "source": [
        "bottom_precincts = bottom_counter(nov_2022_voters, 'Voting Precinct')\n",
        "bottom_precincts = bottom_precincts['index'].to_list()\n",
        "\n",
        "bottom_precints_data = nov_2022_voters[nov_2022_voters['Voting Precinct'].isin(bottom_precincts)]\n",
        "\n",
        "idx = bottom_precints_data['BIRTHYEAR'].apply(lambda x: True if type(x)==int else False)\n",
        "age_segment = bottom_precints_data[idx]\n",
        "age_segment = age_segment['BIRTHYEAR'].apply(lambda x: datetime.now().year - x)\n",
        "age_segment = age_segment.apply(lambda x: age_buckets(x)).reset_index(drop=True).to_frame()\n",
        "top_counter(age_segment, 'BIRTHYEAR')"
      ]
    },
    {
      "cell_type": "markdown",
      "metadata": {
        "id": "mRakDj4gHR5e"
      },
      "source": [
        "##  COME BACK LATER"
      ]
    },
    {
      "cell_type": "code",
      "execution_count": 53,
      "metadata": {
        "id": "AH3P8Pzb_KPf"
      },
      "outputs": [],
      "source": [
        "# labels = ['Millennial', 'Post War', 'Boomer II', 'Gen X', 'Boomer I', 'Gen Z']\n",
        "# percentages = [25.0, 16.7, 25.0, 16.2, 16.7, 16.7]\n",
        "\n",
        "# plt.bar(labels, percentages)\n",
        "\n",
        "# for i, v in enumerate(percentages):\n",
        "#     plt.annotate(str(v) + \"%\", \n",
        "#                  xy=(i, v), \n",
        "#                  xytext=(-14,2), \n",
        "#                  textcoords='offset points',\n",
        "#                  fontweight='bold')\n",
        "# plt.show()"
      ]
    },
    {
      "cell_type": "code",
      "execution_count": 54,
      "metadata": {
        "colab": {
          "base_uri": "https://localhost:8080/",
          "height": 206
        },
        "id": "5bbaFlgmvmN2",
        "outputId": "650e2738-3afe-4dc2-9e47-67d3bf2425e6"
      },
      "outputs": [
        {
          "data": {
            "text/html": [
              "<div>\n",
              "<style scoped>\n",
              "    .dataframe tbody tr th:only-of-type {\n",
              "        vertical-align: middle;\n",
              "    }\n",
              "\n",
              "    .dataframe tbody tr th {\n",
              "        vertical-align: top;\n",
              "    }\n",
              "\n",
              "    .dataframe thead th {\n",
              "        text-align: right;\n",
              "    }\n",
              "</style>\n",
              "<table border=\"1\" class=\"dataframe\">\n",
              "  <thead>\n",
              "    <tr style=\"text-align: right;\">\n",
              "      <th></th>\n",
              "      <th>index</th>\n",
              "      <th>percentage</th>\n",
              "    </tr>\n",
              "  </thead>\n",
              "  <tbody>\n",
              "    <tr>\n",
              "      <th>0</th>\n",
              "      <td>P</td>\n",
              "      <td>68.4%</td>\n",
              "    </tr>\n",
              "    <tr>\n",
              "      <th>1</th>\n",
              "      <td>E</td>\n",
              "      <td>27.3%</td>\n",
              "    </tr>\n",
              "    <tr>\n",
              "      <th>2</th>\n",
              "      <td>M</td>\n",
              "      <td>3.8%</td>\n",
              "    </tr>\n",
              "    <tr>\n",
              "      <th>3</th>\n",
              "      <td>Z</td>\n",
              "      <td>0.4%</td>\n",
              "    </tr>\n",
              "    <tr>\n",
              "      <th>4</th>\n",
              "      <td>A</td>\n",
              "      <td>0.1%</td>\n",
              "    </tr>\n",
              "  </tbody>\n",
              "</table>\n",
              "</div>"
            ],
            "text/plain": [
              "  index percentage\n",
              "0     P      68.4%\n",
              "1     E      27.3%\n",
              "2     M       3.8%\n",
              "3     Z       0.4%\n",
              "4     A       0.1%"
            ]
          },
          "execution_count": 54,
          "metadata": {},
          "output_type": "execute_result"
        }
      ],
      "source": [
        "top_precincts = top_counter(nov_2022_voters, 'Voting Precinct')\n",
        "top_precincts = top_precincts['index'].to_list()\n",
        "\n",
        "top_precints_data = nov_2022_voters[nov_2022_voters['Voting Precinct'].isin(top_precincts)]\n",
        "\n",
        "top_counter(top_precints_data, 'VOTE_TYPE')"
      ]
    },
    {
      "cell_type": "code",
      "execution_count": 55,
      "metadata": {
        "colab": {
          "base_uri": "https://localhost:8080/",
          "height": 265
        },
        "id": "fBdXRYpTFpbp",
        "outputId": "3c654809-8054-4bca-8112-4e7da477814f"
      },
      "outputs": [
        {
          "data": {
            "image/png": "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",
            "text/plain": [
              "<Figure size 640x480 with 1 Axes>"
            ]
          },
          "metadata": {},
          "output_type": "display_data"
        }
      ],
      "source": [
        "labels = ['In Person', 'Election Day', 'Mail-in-Vote', 'Provisional', 'Vote-by-Mail']\n",
        "percentages = [68.4, 27.3, 3.8, 0.4, 0.1]\n",
        "\n",
        "plt.bar(labels, percentages)\n",
        "\n",
        "for i, v in enumerate(percentages):\n",
        "    plt.annotate(str(v) + \"%\", \n",
        "                 xy=(i, v), \n",
        "                 xytext=(-14,2), \n",
        "                 textcoords='offset points',\n",
        "                 fontweight='bold')\n",
        "plt.show()"
      ]
    },
    {
      "cell_type": "markdown",
      "metadata": {
        "id": "IxjmDijovzO6"
      },
      "source": [
        "## People WHo Did not vote"
      ]
    },
    {
      "cell_type": "code",
      "execution_count": 56,
      "metadata": {
        "colab": {
          "base_uri": "https://localhost:8080/",
          "height": 206
        },
        "id": "UlM-jaCSvy8K",
        "outputId": "aad51bed-6668-4e10-cfa6-021d05e5d275"
      },
      "outputs": [
        {
          "data": {
            "text/html": [
              "<div>\n",
              "<style scoped>\n",
              "    .dataframe tbody tr th:only-of-type {\n",
              "        vertical-align: middle;\n",
              "    }\n",
              "\n",
              "    .dataframe tbody tr th {\n",
              "        vertical-align: top;\n",
              "    }\n",
              "\n",
              "    .dataframe thead th {\n",
              "        text-align: right;\n",
              "    }\n",
              "</style>\n",
              "<table border=\"1\" class=\"dataframe\">\n",
              "  <thead>\n",
              "    <tr style=\"text-align: right;\">\n",
              "      <th></th>\n",
              "      <th>index</th>\n",
              "      <th>percentage</th>\n",
              "    </tr>\n",
              "  </thead>\n",
              "  <tbody>\n",
              "    <tr>\n",
              "      <th>0</th>\n",
              "      <td>77083.0</td>\n",
              "      <td>20.9%</td>\n",
              "    </tr>\n",
              "    <tr>\n",
              "      <th>1</th>\n",
              "      <td>77072.0</td>\n",
              "      <td>19.6%</td>\n",
              "    </tr>\n",
              "    <tr>\n",
              "      <th>2</th>\n",
              "      <td>77449.0</td>\n",
              "      <td>19.2%</td>\n",
              "    </tr>\n",
              "    <tr>\n",
              "      <th>3</th>\n",
              "      <td>77042.0</td>\n",
              "      <td>15.6%</td>\n",
              "    </tr>\n",
              "    <tr>\n",
              "      <th>4</th>\n",
              "      <td>77041.0</td>\n",
              "      <td>14.2%</td>\n",
              "    </tr>\n",
              "  </tbody>\n",
              "</table>\n",
              "</div>"
            ],
            "text/plain": [
              "     index percentage\n",
              "0  77083.0      20.9%\n",
              "1  77072.0      19.6%\n",
              "2  77449.0      19.2%\n",
              "3  77042.0      15.6%\n",
              "4  77041.0      14.2%"
            ]
          },
          "execution_count": 56,
          "metadata": {},
          "output_type": "execute_result"
        }
      ],
      "source": [
        "top_precincts = top_counter(not_voted, 'Precinct')\n",
        "top_precincts = top_precincts['index'].to_list()\n",
        "\n",
        "top_precints_data = not_voted[not_voted['Precinct'].isin(top_precincts)]\n",
        "top_counter(top_precints_data, 'Zip')"
      ]
    },
    {
      "cell_type": "code",
      "execution_count": 57,
      "metadata": {
        "colab": {
          "base_uri": "https://localhost:8080/",
          "height": 265
        },
        "id": "8twriLrQDl93",
        "outputId": "b93d7f2c-9306-46d6-9bcc-329dbeb82f0e"
      },
      "outputs": [
        {
          "data": {
            "image/png": "iVBORw0KGgoAAAANSUhEUgAAAiwAAAGdCAYAAAAxCSikAAAAOXRFWHRTb2Z0d2FyZQBNYXRwbG90bGliIHZlcnNpb24zLjUuMiwgaHR0cHM6Ly9tYXRwbG90bGliLm9yZy8qNh9FAAAACXBIWXMAAA9hAAAPYQGoP6dpAAA55UlEQVR4nO3deVhVdeLH8c8V8YoN3BIXQEBNccnE+lmJmkuaKJo5ueSouZXbpE7mj5/KNJraglkZmY42MyqWozYmmo2OBbmW6LiRyhRhqSBCihnXFQXO7w8f73RjUfReOeD79TzniXO+y/1+v89NPpzlXothGIYAAABMrFJZDwAAAOB6CCwAAMD0CCwAAMD0CCwAAMD0CCwAAMD0CCwAAMD0CCwAAMD0CCwAAMD0Kpf1AFyloKBAJ06ckLe3tywWS1kPBwAA3ADDMHT27FkFBASoUqXiz6NUmMBy4sQJBQUFlfUwAADATUhPT1dgYGCx5RUmsHh7e0u6OmEfH58yHg0AALgRdrtdQUFBjt/jxakwgeXaZSAfHx8CCwAA5cz1bufgplsAAGB6BBYAAGB6BJYy8Pbbb6tjx47y9/eX1WpV3bp1NXToUP3www+OOmfPntWECRMUGBioKlWqqEGDBnr55Zd15cqV6/b/5ZdfqmvXrqpVq5aqVaumVq1a6dNPP3Wq8+GHHyokJER33XWXwsLCtHv3bqfyHj16qEuXLq6ZMAAAt8qoIHJycgxJRk5OTlkP5brq1q1rSDKCg4ON+vXrG5IMSYafn5+Rk5Nj5OXlGY8++qghyfD09DQaN25sVKpUyZBkDBw4sMS+ExISDA8PD0d/jRs3NiQZFovFiIuLMwzDML799lvDw8PDeOaZZ4zs7GwjJCTECAwMdPSxYsUKo2rVqsbhw4fdug4AANzo72/OsJSBkSNH6tixYzp27Jh++OEHTZgwQZKUlZWlL774QmvXrtWXX34pSYqLi9O3336rmJgYSdLy5cu1d+/eYvt+//33lZ+frzp16ujo0aP69ttvNWjQIBmGocmTJ0uSDhw4oPz8fLVr106+vr5q2bKljh8/ruzsbJ05c0YTJkzQtGnT1KBBA7euAwAAN4rAUgZeeuklBQcHO/bbtWvn+NlqtWrjxo2SJC8vL3Xv3l2S1KdPH0edzz77rNi+CwoKHD9fu+P62n9TU1OVlpam0NBQeXh4aPv27Tp9+rT27t2rwMBA1ahRQ5GRkapZs6YiIyNdMFMAAFyDwFLG8vLyNG/ePEnSvffeq86dOys9PV2S5Ovr6/jUv9q1azvapKWlFdtf//79JUkZGRmqV6+emjZtqmXLljnKMzIy1LhxYy1ZskSJiYkKCgrSPffco7i4OG3ZskWxsbGaP3++pkyZIn9/fwUHB+uNN95w+bwBACgNAksZOn/+vHr37q3NmzfLz89Pn376qaxWqwzDKFT3l8dKela9X79++vDDD9WiRQvl5OQoNzdXv/vd7xzlnp6ekqTBgwfr8OHDunDhgnbt2qXQ0FCNHj1ao0aNUnJysubMmaPx48frySef1JQpUxxnfQAAKAsEljKSlZWlDh066NNPP1WjRo301Vdf6b777pMkx+Wi7OxsxyWekydPOtpe7ysInnnmGSUlJen8+fP64YcfFBoaKkmqVKmSQkJCimzzyiuvyG63a9asWUpISJAkjR8/XqNHj5YkxcfH38JsAQC4NQSWMpCcnKywsDDt3btX7dq1U2Jiou69915Hebdu3SRJly5d0j//+U9J0qpVqwqVr1mzRk2aNFGTJk2UkZEhSbp48aJ27drl9Fpz5sxxtLPZbEWOZ/bs2Zo7d65sNpvjbE6VKlUcZ2QAAChLFeaj+cuT3r1769ixY5Kuft7KtRtrJWnEiBEaPny4Hn30UX355Zfq27ev7r33XqWmpkqSBg4cqP/5n/+RJOXk5CglJUWSHJ/Pcv78eYWFhSkgIEA2m02pqanKy8tTjRo19O677xYaS0FBgUaOHKnw8HD169dPkvT4449rzZo12rBhg+OzYTp37uym1QAA4PoILGUgNzfX8XNSUpJTWbdu3eTh4aH169dr6tSp+vjjj/XDDz8oODhYQ4YM0Z/+9KcS+/by8lK3bt20b98+HT58WL6+vuratatmzJihevXqFaq/YMECHThwQMnJyY5jo0aNUkpKikaOHClPT0+9+uqrTqEKAIDbzWIUdYdnOWS322Wz2ZSTk8OXHwIAUE7c6O9v7mEBAACmxyWhG1BvyvqyHkK5cXRWj7IeAgCgAuIMCwAAMD0CCwAAMD0CCwAAMD0CCwAAMD0CCwAAMD0CCwAAMD0CCwAAMD0CCwAAMD0CCwAAMD0CC+4Y27ZtU/fu3VWzZk1ZLBZZLBYtXLjQqc7BgwfVp08f1alTR1WrVlVoaKiWLFlyw6+xdu1atW/fXt7e3vLy8lJISIhmzZrlKP/www8VEhKiu+66S2FhYdq9e7dT+x49eqhLly63NlEAqIBKFViio6P18MMPy9vbW7Vq1dJvf/tbpaSkONUxDEPTp09XQECAvLy81LFjR6dvAi7O6tWrdd9998lqteq+++7TmjVrSjcT4Dr27dun+Ph4Va9evcjy//znPwoLC1NcXJwuXryokJAQHTx4UM8++6xiYmKu2//bb7+tp556Stu3b9dvfvMbNW3aVBcvXtQXX3whSUpJSdHw4cMVFhamtLQ0/fTTT+rdu7ej/cqVK7Vp06ZCIQoAUMrAsnXrVo0dO1Y7d+5UfHy88vLyFB4ervPnzzvqzJ49W3PmzNG8efO0e/du+fn5qUuXLjp79myx/SYmJqp///4aPHiwvv76aw0ePFhPP/20du3adfMzA35l8ODBstvt+uyzz4osj42N1YULF1SlShWlpqbq4MGDeumllyRJ06dP18WLF4vtOz09XVOmTJEkzZ07VydOnNC+fft0/PhxxcXFSZIOHDig/Px8tWvXTr6+vmrZsqWOHz+u7OxsnTlzRhMmTNC0adPUoEEDF88cAMq/UgWWjRs3atiwYWrWrJlatGihJUuWKC0tTXv37pV09exKTEyMXnrpJfXu3Vv333+/li5dqgsXLmj58uXF9hsTE6MuXbooKipKTZo0UVRUlDp37nxDf9UCN8rX11deXl7FlhcUFEiS43LRtZ8lKScnp9Dlm1+Ki4tTXl6eqlWrpp07d6pGjRry9/fX4MGDHYE+NDRUHh4e2r59u06fPq29e/cqMDBQNWrUUGRkpGrWrKnIyEhXTRcAKpRbuoclJydHkhyn2I8cOaKsrCyFh4c76litVnXo0EE7duwotp/ExESnNpLUtWvXEtvk5ubKbrc7bcCt6Nu3rzw8PJSbm6uQkBCFhobqtddec5RnZGQU2/bapdELFy5o1apV8vf31+nTp7Vs2TJ1795dV65cUePGjbVkyRIlJiYqKChI99xzj+Li4rRlyxbFxsZq/vz5mjJlivz9/RUcHKw33njD7XMGgPLipgOLYRiaOHGiHn30Ud1///2SpKysLElS7dq1nerWrl3bUVaUrKysUreJjo6WzWZzbEFBQTc7FUCSFBYWpk8//VRhYWG6fPmyTp8+rSFDhjjKPT09i22bl5fn+Hnx4sU6dOiQFi1aJEnav3+/vvrqK0lXL0sdPnxYFy5c0K5duxQaGqrRo0dr1KhRSk5O1pw5czR+/Hg9+eSTmjJlijZu3Oim2QJA+XLTgWXcuHE6cOCAVqxYUajs2mn0awzDKHTsVttERUUpJyfHsaWnp5di9EDRIiIilJiYqLNnzyojI0Ndu3Z1lDVu3LjYdnXq1HH8/PDDD0uSHnnkEcexo0ePFtnulVdekd1u16xZs5SQkCBJGj9+vEaPHi1Jio+Pv+m5mIU7n85KTk7WsGHD1KRJE/n4+Mhms6lly5aOsHgNT2cB5d9NBZbx48dr3bp12rx5swIDAx3H/fz8JKnQmZGTJ08WOoPyS35+fqVuY7Va5ePj47QBt2rr1q2On9PT0zV9+nRJUrNmzRxnEtesWaMmTZqoSZMmjstEjz/+uKPdnj17nP4rSSEhIYVeKzk5WbNnz9bcuXNls9lkGIYkqUqVKiWezSlv3Pl01u7du7V06VKlp6erbt26ysvL0759+zRixAjNnj1bEk9nARVFqQKLYRgaN26c4uLitGnTJtWvX9+pvH79+vLz83P6q/Dy5cvaunWr2rRpU2y/rVu3LvSX5Oeff15iG6C04uLi1LBhQ3Xs2NFxbNq0aWrYsKEGDRok6epf2rVq1VLz5s0VEhKi7777TtWqVdNf//pXpxtwU1JSlJKSoitXrkiS2rZtq169ekmShg8frubNm2v48OGSpM6dO6tt27ZOYykoKNDIkSMVHh6ufv36Sfpv6NmwYYPWr1/vaFveufPprODgYK1atUp2u10HDx7UN998I5vNJkn6+9//Lomns4CKonJpKo8dO1bLly/XJ598Im9vb8dZEZvNJi8vL1ksFk2YMEGvv/66QkJCFBISotdff13VqlXTwIEDHf0MGTJEderUUXR0tCTphRdeUPv27fXGG2+oV69e+uSTT5SQkKAvv/zShVPFnc5ut+v77793Onbq1CmdOnXKcaawZ8+e2rp1q1JSUuTt7a0ePXro5ZdfVmho6HX7X7lypaZPn67ly5crNTVV9evXV//+/RUVFVWo7oIFC3TgwAGnzygaNWqUUlJSNHLkSHl6eurVV19V9+7db3HWZc/X17fE8ht5Oqt9+/ZFtu3UqZPTfnBwsIKDg3Xw4EFZrVZJzk9n9enTx+nprOeee46ns4BywmJcOw99I5WLuadkyZIlGjZsmKSrZ2FmzJih999/X2fOnFGrVq00f/58x+l0SerYsaPq1aun2NhYx7GPP/5Yf/rTn/TDDz+oQYMGeu2115xO216P3W6XzWZTTk6Oyy8P1Zuy3qX9VWRHZ/Uo6yHApI4ePeo4K7tgwQKNGTNGkrRz5049+uijys/PV/Xq1VWnTh0dOnTIcYls+fLlGjBgwA29RkJCgrp27aqCggL95S9/0ciRIyVdvYdlxowZOnHihJo3b6558+bp/Pnz6ty5szZv3qxPPvlEy5cvl6enp8aOHavJkye7YQUAFOVGf3+XKrCYGYHFHAgsKE5xgUWS/vWvf2nmzJk6dOiQfHx81KVLFy1dulSStGrVKvXt2/e6/W/YsEH9+/fXuXPn9Ic//EHvvvtusXVzc3MVGhqqTp06KTQ0VM8//7xee+01nThxQvPnz9e//vUvdevW7RZnDOBG3Ojv71JdEgJuJ4LijSvvQTEiIkIRERGO/RUrVjgCS0lPZ12zcOFCjRs3Tvn5+Zo5c6amTp1aYv1fPp317LPPSrr6MMHRo0c1f/58xcfHE1gAk+HLDwGUuZt9OsswDE2aNEm///3v5eHhoWXLll03rNwpT2cBFQ2BBYBbufPprJUrV+rNN9+UJPn4+Oi9995TWFiYY/u1O+npLKCi4ZIQALdy59NZubm5jp+zs7OVnZ1dYv076eksoKLhptsbwL0UN86V91Kw7jeuvN/DAuDOdaO/v7kkBAAATI/AAgAATI97WAA44VLcjeNSHHD7cIYFAACYHoEFAACYHoEFAACYHoEFAACYHoEFAACYHoEFAACYHoEFAACYHoEFAACYHoEFAACYHoEFAACYHoEFAACYHoEFAACYHoEFAACYHoEFAACYHoEFAACYHoEFAACYHoEFAACYHoEFAACYHoEFAACYHoEFAACYHoEFAACYHoEFAACYHoEFAACYXqkDy7Zt29SzZ08FBATIYrFo7dq1TuUWi6XI7c033yy2z9jY2CLbXLp0qdQTAgAAFU+pA8v58+fVokULzZs3r8jyzMxMp23x4sWyWCzq06dPif36+PgUalu1atXSDg8AAFRAlUvbICIiQhEREcWW+/n5Oe1/8skneuyxx3TvvfeW2K/FYinUFgAAQHLzPSw//vij1q9fr+eee+66dc+dO6e6desqMDBQTzzxhPbv3+/OoQEAgHLErYFl6dKl8vb2Vu/evUus16RJE8XGxmrdunVasWKFqlatqrZt2yo1NbXYNrm5ubLb7U4bAAComNwaWBYvXqxBgwZd916UsLAwPfPMM2rRooXatWunf/zjH2rUqJHee++9YttER0fLZrM5tqCgIFcPHwAAmITbAsv27duVkpKiESNGlLptpUqV9PDDD5d4hiUqKko5OTmOLT09/VaGCwAATKzUN93eqEWLFqlly5Zq0aJFqdsahqGkpCQ1b9682DpWq1VWq/VWhggAAMqJUgeWc+fO6fDhw479I0eOKCkpSdWrV1dwcLAkyW63a9WqVXr77beL7GPIkCGqU6eOoqOjJUkzZsxQWFiYQkJCZLfbNXfuXCUlJWn+/Pk3MycAAFDBlDqw7NmzR4899phjf+LEiZKkoUOHKjY2VpK0cuVKGYahAQMGFNlHWlqaKlX679Won3/+WaNGjVJWVpZsNpsefPBBbdu2TY888khphwcAACqgUgeWjh07yjCMEuuMGjVKo0aNKrZ8y5YtTvvvvPOO3nnnndIOBQAA3CH4LiEAAGB6BBYAAGB6BBYAAGB6BBYAAGB6BBYAAGB6BBYAAGB6BBYAAGB6BBYAAGB6BBYAAGB6BBYAAGB6BBYAAGB6BBYAAGB6BBYAAGB6BBYAqIC2bdum7t27q2bNmrJYLLJYLFq4cKFTnXr16jnKfrk988wzN/Qaa9euVfv27eXt7S0vLy+FhIRo1qxZjvIPP/xQISEhuuuuuxQWFqbdu3c7te/Ro4e6dOly65PFHYHAAgAV0L59+xQfH6/q1atft27Tpk3VqlUrx9awYcPrtnn77bf11FNPafv27frNb36jpk2b6uLFi/riiy8kSSkpKRo+fLjCwsKUlpamn376Sb1793a0X7lypTZt2lQoRAHFqVzWAwAAuN7gwYM1evRo/fjjj6pfv36Jdf/85z+rY8eON9x3enq6pkyZIkmaO3euxo0bJ4vFIkk6e/asJOnAgQPKz89Xu3bt5Ovrq5YtW2rlypXKzs6Wh4eHJkyYoGnTpqlBgwY3N0HccTjDAgAVkK+vr7y8vG6obp8+fVS1alU1atRIkyZNkt1uL7F+XFyc8vLyVK1aNe3cuVM1atSQv7+/Bg8erPPnz0uSQkND5eHhoe3bt+v06dPau3evAgMDVaNGDUVGRqpmzZqKjIy85XnizkFgAYA7mM1mU2BgoGw2m1JTU/Xmm2+qa9euKigoKLZNSkqKJOnChQtatWqV/P39dfr0aS1btkzdu3fXlStX1LhxYy1ZskSJiYkKCgrSPffco7i4OG3ZskWxsbGaP3++pkyZIn9/fwUHB+uNN964XVNGOUVgAYA71Mcff6zTp0/r66+/VkZGhgYPHixJ2rlzp3bs2FFsu7y8PMfPixcv1qFDh7Ro0SJJ0v79+/XVV19JunpZ6vDhw7pw4YJ27dql0NBQjR49WqNGjVJycrLmzJmj8ePH68knn9SUKVO0ceNGN84W5R2BBQDuUA899JA8PDwkSZUrV9bTTz/tKEtLSyu2XZ06dRw/P/zww5KkRx55xHHs6NGjRbZ75ZVXZLfbNWvWLCUkJEiSxo8fr9GjR0uS4uPjb24iuCMQWADgDpScnKxFixYpNzdXkpSfn6+PP/7YUV6vXj1J0po1a9SkSRM1adJEGRkZkqTHH3/cUW/Pnj1O/5WkkJCQIl9v9uzZmjt3rmw2mwzDkCRVqVJFnp6erp0cKiQCCwBUQHFxcWrYsKHT0z/Tpk1Tw4YNNWjQIJ06dUojRoyQzWbT/fffrzp16mjp0qWSpE6dOql169aSpJycHKWkpCglJUVXrlyRJLVt21a9evWSJA0fPlzNmzfX8OHDJUmdO3dW27ZtncZSUFCgkSNHKjw8XP369ZP039CzYcMGrV+/3tEWKA6PNQNABWS32/X99987HTt16pROnTqlwMBANW3aVC+++KK++OILHTt2TPn5+WrevLkGDhyoF154wfGYcnFWrlyp6dOna/ny5UpNTVX9+vXVv39/RUVFFaq7YMECHThwQMnJyY5jo0aNUkpKikaOHClPT0+9+uqr6t69u2smjwrJYlw7L1fO2e122Ww25eTkyMfHx6V915uy3qX9VWRHZ/VwWV+s+41j3cuGK9cduFPd6O9vLgkBAADTI7AAAADT4x4WADABLsXdOC7F3Zk4wwIAAEyPwAIAAEyPwAIAAEyPwAIAAEyv1IFl27Zt6tmzpwICAmSxWLR27Vqn8mHDhslisThtYWFh1+139erVuu+++2S1WnXfffdpzZo1pR0aAACooEodWM6fP68WLVpo3rx5xdbp1q2bMjMzHduGDRtK7DMxMVH9+/fX4MGD9fXXX2vw4MF6+umntWvXrtIODwAAVEClfqw5IiJCERERJdaxWq3y8/O74T5jYmLUpUsXx0c6R0VFaevWrYqJidGKFStKO0QAAFDBuOUeli1btqhWrVpq1KiRRo4cqZMnT5ZYPzExUeHh4U7Hunbtqh07drhjeAAAoJxx+QfHRUREqF+/fqpbt66OHDmiqVOnqlOnTtq7d6+sVmuRbbKyslS7dm2nY7Vr11ZWVlaxr5Obm+v4WnTp6ncRAACAisnlgaV///6On++//3499NBDqlu3rtavX6/evXsX2+7X3wxqGEaJ3xYaHR2tGTNm3PqAAQCA6bn9sWZ/f3/VrVtXqampxdbx8/MrdDbl5MmThc66/FJUVJRycnIcW3p6usvGDADAzdi2bZu6d++umjVrOp6UXbhwYZF1jx8/rurVqzvqbdy4scS+k5OTNWzYMDVp0kQ+Pj6y2Wxq2bKlFi1a5FTvww8/VEhIiO666y6FhYVp9+7dTuU9evRQly5dbm2iZcDtgeX06dNKT0+Xv79/sXVat26t+Ph4p2Off/652rRpU2wbq9UqHx8fpw0AgLK0b98+xcfHq3r16iXWKygo0JAhQ3TmzJkb7nv37t1aunSp0tPTVbduXeXl5Wnfvn0aMWKEZs+eLUlKSUnR8OHDFRYWprS0NP30009OVzdWrlypTZs2FRuizKzUgeXcuXNKSkpSUlKSJOnIkSNKSkpSWlqazp07p8jISCUmJuro0aPasmWLevbsqRo1auipp55y9DFkyBDHE0GS9MILL+jzzz/XG2+8oW+//VZvvPGGEhISNGHChFueIAAAt8vgwYNlt9v12WeflVjvzTff1ObNm/X000/fcN/BwcFatWqV7Ha7Dh48qG+++UY2m02S9Pe//12SdODAAeXn56tdu3by9fVVy5Ytdfz4cWVnZ+vMmTOaMGGCpk2bpgYNGtz8JMtIqQPLnj179OCDD+rBBx+UJE2cOFEPPvigpk2bJg8PDx08eFC9evVSo0aNNHToUDVq1EiJiYny9vZ29JGWlqbMzEzHfps2bbRy5UotWbJEoaGhio2N1UcffaRWrVq5YIoAANwevr6+8vLyKrHOvn37NHXqVPXs2VO///3vb7jvTp06qW/fvvLw8JB0NcAEBwdLkuOhltDQUHl4eGj79u06ffq09u7dq8DAQNWoUUORkZGqWbOmIiMjb3J2ZavUN9127NhRhmEUW369VCldfez51/r27au+ffuWdjgAAJQbFy5c0MCBA1WjRg0tXrxYhw4duum+EhISlJycLEkaOXKkJKlx48ZasmSJZsyYoaCgIDVv3lx///vftWXLFsXGxmrz5s2aMmWKli9fLk9PT40dO1aTJ092ydzczeVPCQEAgKJFRUXpu+++02effaYaNWrcdD8bNmxQ//79VVBQoD/84Q+OwCJdvSw1ePBgx35ubq5CQ0M1atQoJScna86cOXrttdd04sQJTZkyRS1atFC3bt1uaV63A19+CADAbfL1119Lkp566in95je/cfrk+KeeekoDBgy4bh8LFy7Uk08+qXPnzmnmzJl69913S6z/yiuvyG63a9asWUpISJAkjR8/XqNHj5akQg+9mBWBBQCA28gwDJ0/f17nz5/XpUuXHMcvXbqkixcvSpLWrFmjJk2aqEmTJsrIyHC0mzRpkn7/+9/Lw8NDy5Yt09SpU0t8reTkZM2ePVtz586VzWZz3NJRpUoVeXp6ummG7kFgAQDAReLi4tSwYUN17NjRcWzatGlq2LChBg0apC1btsgwDMe2efNmR71//etfWrt2rSQpJydHKSkpSklJ0ZUrVyRdfST5zTfflCT5+PjovffeU1hYmGP7tYKCAo0cOVLh4eHq16+fJOnxxx+XdPWS0vr16yVJnTt3dvk6uAP3sAAA4CJ2u13ff/+907FTp07p1KlTCgwMvKW+f/l1NNnZ2crOzi6x/oIFC3TgwAHHjbmSNGrUKKWkpGjkyJHy9PTUq6++qu7du9/SuG4Xi1HSIz/liN1ul81mU05Ojss/RK7elPUu7a8iOzqrh8v6Yt1vHOteNlj3suHKdUfZu9Hf31wSAgAApsclIQDAHYszWzeurM9scYYFAACYHoEFAACYHoEFAACYHoEFAACYHoEFAACYHoEFAACYHoEFAACYHoEFAACYHoEFAACYHoEFAACYHoEFAACYHoEFAACYHoEFAACYHoEFAACYHoEFAACYHoEFAACYHoEFAACYHoEFAACYHoEFAACYHoEFAACYHoEFAACYHoEFAACYHoEFAACYHoEFAACYXqkDy7Zt29SzZ08FBATIYrFo7dq1jrIrV65o8uTJat68ue666y4FBARoyJAhOnHiRIl9xsbGymKxFNouXbpU6gkBAICKp9SB5fz582rRooXmzZtXqOzChQvat2+fpk6dqn379ikuLk7fffednnzyyev26+Pjo8zMTKetatWqpR0eAACogCqXtkFERIQiIiKKLLPZbIqPj3c69t577+mRRx5RWlqagoODi+3XYrHIz8+vtMMBAAB3ALffw5KTkyOLxaK77767xHrnzp1T3bp1FRgYqCeeeEL79+8vsX5ubq7sdrvTBgAAKia3BpZLly5pypQpGjhwoHx8fIqt16RJE8XGxmrdunVasWKFqlatqrZt2yo1NbXYNtHR0bLZbI4tKCjIHVMAAAAm4LbAcuXKFf3ud79TQUGB/vznP5dYNywsTM8884xatGihdu3a6R//+IcaNWqk9957r9g2UVFRysnJcWzp6emungIAADCJUt/DciOuXLmip59+WkeOHNGmTZtKPLtSlEqVKunhhx8u8QyL1WqV1Wq91aECAIBywOVnWK6FldTUVCUkJMjX17fUfRiGoaSkJPn7+7t6eAAAoBwq9RmWc+fO6fDhw479I0eOKCkpSdWrV1dAQID69u2rffv26Z///Kfy8/OVlZUlSapevbqqVKkiSRoyZIjq1Kmj6OhoSdKMGTMUFhamkJAQ2e12zZ07V0lJSZo/f74r5ggAAMq5UgeWPXv26LHHHnPsT5w4UZI0dOhQTZ8+XevWrZMkPfDAA07tNm/erI4dO0qS0tLSVKnSf0/u/Pzzzxo1apSysrJks9n04IMPatu2bXrkkUdKOzwAAFABlTqwdOzYUYZhFFteUtk1W7Zscdp/55139M4775R2KAAA4A7BdwkBAADTI7AAAADTI7AAAADTI7AAAADTI7AAAADTI7AAAADTI7AAAADTI7AAAADTI7AAAADTI7AAAADTI7AAAADTI7AAAADTI7AAAADTI7AAAADTI7AAAADTI7AAAADTI7AAAADTI7AAAADTI7AAAADTI7AAAADTI7AAAADTI7AAAADTI7AAAADTI7AAAADTI7AAAADTI7AAAADTI7AAAADTI7AAAADTI7AAAADTI7AAAADTI7AAAADTK3Vg2bZtm3r27KmAgABZLBatXbvWqdwwDE2fPl0BAQHy8vJSx44dlZycfN1+V69erfvuu09Wq1X33Xef1qxZU9qhAQCACqrUgeX8+fNq0aKF5s2bV2T57NmzNWfOHM2bN0+7d++Wn5+funTporNnzxbbZ2Jiovr376/Bgwfr66+/1uDBg/X0009r165dpR0eAACogCqXtkFERIQiIiKKLDMMQzExMXrppZfUu3dvSdLSpUtVu3ZtLV++XKNHjy6yXUxMjLp06aKoqChJUlRUlLZu3aqYmBitWLGitEMEAAAVjEvvYTly5IiysrIUHh7uOGa1WtWhQwft2LGj2HaJiYlObSSpa9euJbbJzc2V3W532gAAQMXk0sCSlZUlSapdu7bT8dq1azvKimtX2jbR0dGy2WyOLSgo6BZGDgAAzMwtTwlZLBanfcMwCh271TZRUVHKyclxbOnp6Tc/YAAAYGqlvoelJH5+fpKunjHx9/d3HD958mShMyi/bvfrsynXa2O1WmW1Wm9xxAAAoDxw6RmW+vXry8/PT/Hx8Y5jly9f1tatW9WmTZti27Vu3dqpjSR9/vnnJbYBAAB3jlKfYTl37pwOHz7s2D9y5IiSkpJUvXp1BQcHa8KECXr99dcVEhKikJAQvf7666pWrZoGDhzoaDNkyBDVqVNH0dHRkqQXXnhB7du31xtvvKFevXrpk08+UUJCgr788ksXTBEAAJR3pQ4se/bs0WOPPebYnzhxoiRp6NChio2N1aRJk3Tx4kU9//zzOnPmjFq1aqXPP/9c3t7ejjZpaWmqVOm/J3fatGmjlStX6k9/+pOmTp2qBg0a6KOPPlKrVq1uZW4AAKCCKHVg6dixowzDKLbcYrFo+vTpmj59erF1tmzZUuhY37591bdv39IOBwAA3AH4LiEAAGB6BBYAAGB6BBYAAGB6BBYAAGB6BBYAAGB6BBYAAGB6BBYAAGB6BBYAAGB6BBYAAGB6BBYAAGB6BBYAAGB6BBYAAGB6BBYAAGB6BBYAAGB6BBYAAGB6BBYAAGB6BBYAAGB6BBYAAGB6BBYAAGB6BBYAAGB6BBYAAGB6BBYAAGB6BBYAAGB6BBYAAGB6BBYAAGB6BBYAAGB6BBYAAGB6BBYAAGB6BBYAAGB6BBYAAGB6BBYAAGB6Lg8s9erVk8ViKbSNHTu2yPpbtmwpsv63337r6qEBAIByqrKrO9y9e7fy8/Md+4cOHVKXLl3Ur1+/EtulpKTIx8fHsV+zZk1XDw0AAJRTLg8svw4as2bNUoMGDdShQ4cS29WqVUt33323q4cDAAAqALfew3L58mUtW7ZMzz77rCwWS4l1H3zwQfn7+6tz587avHnzdfvOzc2V3W532gAAQMXk1sCydu1a/fzzzxo2bFixdfz9/fWXv/xFq1evVlxcnBo3bqzOnTtr27ZtJfYdHR0tm83m2IKCglw8egAAYBYuvyT0S4sWLVJERIQCAgKKrdO4cWM1btzYsd+6dWulp6frrbfeUvv27YttFxUVpYkTJzr27XY7oQUAgArKbYHl2LFjSkhIUFxcXKnbhoWFadmyZSXWsVqtslqtNzs8AABQjrjtktCSJUtUq1Yt9ejRo9Rt9+/fL39/fzeMCgAAlEduOcNSUFCgJUuWaOjQoapc2fkloqKilJGRoQ8++ECSFBMTo3r16qlZs2aOm3RXr16t1atXu2NoAACgHHJLYElISFBaWpqeffbZQmWZmZlKS0tz7F++fFmRkZHKyMiQl5eXmjVrpvXr16t79+7uGBoAACiH3BJYwsPDZRhGkWWxsbFO+5MmTdKkSZPcMQwAAFBB8F1CAADA9AgsAADA9AgsAADA9AgsAADA9AgsAADA9AgsAADA9AgsAADA9AgsAADA9AgsAADA9AgsAADA9AgsAADA9AgsAADA9AgsAADA9AgsAADA9AgsAADA9AgsAADA9AgsAADA9AgsAADA9AgsAADA9AgsAADA9AgsAADA9AgsAADA9AgsAADA9AgsAADA9AgsAADA9AgsAADA9AgsAADA9AgsAADA9AgsAADA9AgsAADA9AgsAADA9FweWKZPny6LxeK0+fn5ldhm69atatmypapWrap7771XCxcudPWwAABAOVbZHZ02a9ZMCQkJjn0PD49i6x45ckTdu3fXyJEjtWzZMn311Vd6/vnnVbNmTfXp08cdwwMAAOWMWwJL5cqVr3tW5ZqFCxcqODhYMTExkqSmTZtqz549euuttwgsAABAkpvuYUlNTVVAQIDq16+v3/3ud/rhhx+KrZuYmKjw8HCnY127dtWePXt05cqVYtvl5ubKbrc7bQAAoGJyeWBp1aqVPvjgA3322Wf661//qqysLLVp00anT58usn5WVpZq167tdKx27drKy8tTdnZ2sa8THR0tm83m2IKCglw6DwAAYB4uDywRERHq06ePmjdvrscff1zr16+XJC1durTYNhaLxWnfMIwij/9SVFSUcnJyHFt6eroLRg8AAMzILfew/NJdd92l5s2bKzU1tchyPz8/ZWVlOR07efKkKleuLF9f32L7tVqtslqtLh0rAAAwJ7d/Dktubq6++eYb+fv7F1neunVrxcfHOx37/PPP9dBDD8nT09PdwwMAAOWAywNLZGSktm7dqiNHjmjXrl3q27ev7Ha7hg4dKunqpZwhQ4Y46o8ZM0bHjh3TxIkT9c0332jx4sVatGiRIiMjXT00AABQTrn8ktDx48c1YMAAZWdnq2bNmgoLC9POnTtVt25dSVJmZqbS0tIc9evXr68NGzboxRdf1Pz58xUQEKC5c+fySDMAAHBweWBZuXJlieWxsbGFjnXo0EH79u1z9VAAAEAFwXcJAQAA0yOwAAAA0yOwAAAA0yOwAAAA0yOwAAAA0yOwAAAA0yOwAAAA0yOwAAAA0yOwAAAA0yOwAAAA0yOwAAAA0yOwAAAA0yOwAAAA0yOwAAAA0yOwAAAA0yOwAAAA0yOwAAAA0yOwAAAA0yOwAAAA0yOwAAAA0yOwAAAA0yOwAAAA0yOwAAAA0yOwAAAA0yOwAAAA0yOwAAAA0yOwAAAA0yOwAAAA0yOwAAAA0yOwAAAA0yOwAAAA03N5YImOjtbDDz8sb29v1apVS7/97W+VkpJSYpstW7bIYrEU2r799ltXDw8AAJRDLg8sW7du1dixY7Vz507Fx8crLy9P4eHhOn/+/HXbpqSkKDMz07GFhIS4engAAKAcquzqDjdu3Oi0v2TJEtWqVUt79+5V+/btS2xbq1Yt3X333a4eEgAAKOfcfg9LTk6OJKl69erXrfvggw/K399fnTt31ubNm0usm5ubK7vd7rQBAICKya2BxTAMTZw4UY8++qjuv//+Yuv5+/vrL3/5i1avXq24uDg1btxYnTt31rZt24ptEx0dLZvN5tiCgoLcMQUAAGACLr8k9Evjxo3TgQMH9OWXX5ZYr3HjxmrcuLFjv3Xr1kpPT9dbb71V7GWkqKgoTZw40bFvt9sJLQAAVFBuO8Myfvx4rVu3Tps3b1ZgYGCp24eFhSk1NbXYcqvVKh8fH6cNAABUTC4/w2IYhsaPH681a9Zoy5Ytql+//k31s3//fvn7+7t4dAAAoDxyeWAZO3asli9frk8++UTe3t7KysqSJNlsNnl5eUm6ejknIyNDH3zwgSQpJiZG9erVU7NmzXT58mUtW7ZMq1ev1urVq109PAAAUA65PLAsWLBAktSxY0en40uWLNGwYcMkSZmZmUpLS3OUXb58WZGRkcrIyJCXl5eaNWum9evXq3v37q4eHgAAKIfccknoemJjY532J02apEmTJrl6KAAAoILgu4QAAIDpEVgAAIDpEVgAAIDpEVgAAIDpEVgAAIDpEVgAAIDpEVgAAIDpEVgAAIDpEVgAAIDpEVgAAIDpEVgAAIDpEVgAAIDpEVgAAIDpEVgAAIDpEVgAAIDpEVgAAIDpEVgAAIDpEVgAAIDpEVgAAIDpEVgAAIDpEVgAAIDpEVgAAIDpEVgAAIDpEVgAAIDpEVgAAIDpEVgAAIDpEVgAAIDpEVgAAIDpEVgAAIDpEVgAAIDpEVgAAIDpuS2w/PnPf1b9+vVVtWpVtWzZUtu3by+x/tatW9WyZUtVrVpV9957rxYuXOiuoQEAgHLGLYHlo48+0oQJE/TSSy9p//79ateunSIiIpSWllZk/SNHjqh79+5q166d9u/frz/+8Y/6wx/+oNWrV7tjeAAAoJxxS2CZM2eOnnvuOY0YMUJNmzZVTEyMgoKCtGDBgiLrL1y4UMHBwYqJiVHTpk01YsQIPfvss3rrrbfcMTwAAFDOVHZ1h5cvX9bevXs1ZcoUp+Ph4eHasWNHkW0SExMVHh7udKxr165atGiRrly5Ik9Pz0JtcnNzlZub69jPycmRJNnt9ludQiEFuRdc3mdF5cr1Z91vHOteNlj3ssG6lw13/H79Zb+GYZRYz+WBJTs7W/n5+apdu7bT8dq1aysrK6vINllZWUXWz8vLU3Z2tvz9/Qu1iY6O1owZMwodDwoKuoXR41bZYsp6BHcm1r1ssO5lg3UvG+5e97Nnz8pmsxVb7vLAco3FYnHaNwyj0LHr1S/q+DVRUVGaOHGiY7+goEA//fSTfH19S3ydisJutysoKEjp6eny8fEp6+HcMVj3ssG6lw3WvWzcaetuGIbOnj2rgICAEuu5PLDUqFFDHh4ehc6mnDx5stBZlGv8/PyKrF+5cmX5+voW2cZqtcpqtTodu/vuu29+4OWUj4/PHfGGNhvWvWyw7mWDdS8bd9K6l3Rm5RqX33RbpUoVtWzZUvHx8U7H4+Pj1aZNmyLbtG7dulD9zz//XA899FCR968AAIA7i1ueEpo4caL+9re/afHixfrmm2/04osvKi0tTWPGjJF09XLOkCFDHPXHjBmjY8eOaeLEifrmm2+0ePFiLVq0SJGRke4YHgAAKGfccg9L//79dfr0ac2cOVOZmZm6//77tWHDBtWtW1eSlJmZ6fSZLPXr19eGDRv04osvav78+QoICNDcuXPVp08fdwyvQrBarXr55ZcLXRaDe7HuZYN1Lxuse9lg3YtmMa73HBEAAEAZ47uEAACA6RFYAACA6RFYAACA6RFYAACA6RFYbpN69erJYrEU2saOHStJRZZZLBa9+eabjj5yc3M1fvx41ahRQ3fddZeefPJJHT9+3Ol1vvvuO/Xq1Us1atSQj4+P2rZtq82bNzvKT58+rW7duikgIEBWq1VBQUEaN26c274joqzdjnXfsmVLsf3s3r1bkvT1119rwIABCgoKkpeXl5o2bap333339i7GbeSKdb/GMAxFRETIYrFo7dq1Rb5ebm6uHnjgAVksFiUlJTmVffHFF2rTpo28vb3l7++vyZMnKy8vz9VTNoXb9e/ML+sWte6838tm3SXphRdeUMuWLWW1WvXAAw+4a8plgsBym+zevVuZmZmO7doH5fXr10+SnMoyMzO1ePFiWSwWp0e7J0yYoDVr1mjlypX68ssvde7cOT3xxBPKz8931OnRo4fy8vK0adMm7d27Vw888ICeeOIJxycJV6pUSb169dK6dev03XffKTY2VgkJCY7PyKlobse6t2nTplA/I0aMUL169fTQQw9Jkvbu3auaNWtq2bJlSk5O1ksvvaSoqCjNmzfvNq/I7eGKdb8mJibmul+3MWnSpCI/1vvAgQPq3r27unXrpv3792vlypVat25doS9nrShu178z1xS37rzfy2bdpasB/9lnn1X//v3dMNMyZqBMvPDCC0aDBg2MgoKCIst79epldOrUybH/888/G56ensbKlSsdxzIyMoxKlSoZGzduNAzDME6dOmVIMrZt2+aoY7fbDUlGQkJCsWN59913jcDAwFudUrngjnX/tcuXLxu1atUyZs6cWeJYnn/+eeOxxx67iVmUP6Vd92uSkpKMwMBAIzMz05BkrFmzplCdDRs2GE2aNDGSk5MNScb+/fsdZVFRUcZDDz3kVH/NmjVG1apVDbvdfktzKg/c+X4vad2Lwvv9v27Hur/88stGixYtbnkuZsIZljJw+fJlLVu2TM8++2yRfzn++OOPWr9+vZ577jnHsb179+rKlSsKDw93HAsICND999+vHTt2SJJ8fX3VtGlTffDBBzp//rzy8vL0/vvvq3bt2mrZsmWRYzlx4oTi4uLUoUMHF8/SfNy17r+2bt06ZWdna9iwYSWOJycnR9WrV7+5yZQjN7PuknThwgUNGDBA8+bNk5+fX5F9//jjjxo5cqQ+/PBDVatWrVB5bm6uqlat6nTMy8tLly5d0t69e29hVubnzvf79da9KLzfr7rd616REFjKwNq1a/Xzzz8X+wtt6dKl8vb2Vu/evR3HsrKyVKVKFd1zzz1OdWvXru243GOxWBQfH6/9+/fL29tbVatW1TvvvKONGzcW+mLIAQMGqFq1aqpTp458fHz0t7/9zaVzNCN3rfuvLVq0SF27dlVQUFCxY0lMTNQ//vEPjR49uvQTKWduZt0l6cUXX1SbNm3Uq1evItsZhqFhw4ZpzJgxjktvv9a1a1ft2LFDK1asUH5+vjIyMvTqq69KunqaviJz1/v9Rtb913i//9ftXPeKhsBSBhYtWqSIiIhir0EuXrxYgwYNKvSXYVEMw3CkeMMw9Pzzz6tWrVravn27/v3vf6tXr1564oknCv3j/M4772jfvn1au3atvv/+e02cOPHWJ2Zy7lr3Xzp+/Lg+++yzQmcLfik5OVm9evXStGnT1KVLlxufQDl1M+u+bt06bdq0STExMcX2+95778lutysqKqrYOuHh4XrzzTc1ZswYWa1WNWrUSD169JAkeXh43NyEygl3vd9vZN1/ife7s9u17hVS2V2NujMdPXrUqFSpkrF27doiy7dt22ZIMpKSkpyOf/HFF4Yk46effnI6HhoaakybNs0wDMNISEgwKlWqZOTk5DjVadiwoREdHV3smLZv325IMk6cOHEzUyoX3LnuvzRz5kyjZs2axuXLl4t8neTkZKNWrVrGH//4x5ucSflys+v+wgsvGBaLxfDw8HBskoxKlSoZHTp0MAzj6n0AlSpVKlTHw8PDGDJkiFN/BQUFRkZGhnHhwgXjP//5jyHJ+Pe//+2WOZuBO9/vpVl33u/Obte6G0bFvIeFwHKbvfzyy4afn59x5cqVIsuHDh1qtGzZstDxazdlffTRR45jJ06ccLopa926dUalSpWMs2fPOrVt1KiR8dprrxU7pmv/Ex05cuQmZlQ+uHPdrykoKDDq169v/O///m+Rr3Ho0CGjVq1axv/93//dwkzKl5td98zMTOPgwYNOmyTj3XffNX744QfDMAzj2LFjTuWfffaZIcn4+OOPjfT09GLHNHXqVCMoKMjIy8tzzSRNyJ3v9xtdd97vhd2Odf/lWAgsuGn5+flGcHCwMXny5CLLc3JyjGrVqhkLFiwosnzMmDFGYGCgkZCQYOzbt8/o1KmT0aJFC8c/vKdOnTJ8fX2N3r17G0lJSUZKSooRGRlpeHp6OhL9+vXrjcWLFxsHDx40jhw5Yqxfv95o1qyZ0bZtW/dM2gTcve7XJCQkGJKM//znP4X6OHTokFGzZk1j0KBBRmZmpmM7efLkrU/QpG513X9NxTwldM2RI0eKfGpi9uzZxoEDB4xDhw4ZM2fONDw9PUvsp7y7Xe/3a4pad97vhd2OdTcMw0hNTTX2799vjB492mjUqJGxf/9+Y//+/UZubu4tzc8MCCy30bVEnJKSUmT5+++/b3h5eRk///xzkeUXL140xo0bZ1SvXt3w8vIynnjiCSMtLc2pzu7du43w8HCjevXqhre3txEWFmZs2LDBUb5p0yajdevWhs1mM6pWrWqEhIQYkydPNs6cOeOyeZrN7Vh3wzCMAQMGGG3atCmyj5dfftmQVGirW7fuTc/L7G513X/tZgPLY4895ni/t2rVyun/h4rodr3frylq3Xm/F3Y71t0wDKNDhw5Frn1FOINuMQzDcPmNMQAAAC7EU0IAAMD0CCwAAMD0CCwAAMD0CCwAAMD0CCwAAMD0CCwAAMD0CCwAAMD0CCwAAMD0CCwAAMD0CCwAAMD0CCwAAMD0CCwAAMD0/h9uGjEyvcTVSgAAAABJRU5ErkJggg==",
            "text/plain": [
              "<Figure size 640x480 with 1 Axes>"
            ]
          },
          "metadata": {},
          "output_type": "display_data"
        }
      ],
      "source": [
        "labels = ['77083', '77072', '77449', '77042', '77041']\n",
        "percentages = [20.9, 19.6, 19.2, 15.6, 14.2]\n",
        "\n",
        "plt.bar(labels, percentages)\n",
        "\n",
        "for i, v in enumerate(percentages):\n",
        "    plt.annotate(str(v) + \"%\", \n",
        "                 xy=(i, v), \n",
        "                 xytext=(-14,2), \n",
        "                 textcoords='offset points',\n",
        "                 fontweight='bold')\n",
        "plt.show()"
      ]
    }
  ],
  "metadata": {
    "colab": {
      "provenance": []
    },
    "kernelspec": {
      "display_name": "base",
      "language": "python",
      "name": "python3"
    },
    "language_info": {
      "codemirror_mode": {
        "name": "ipython",
        "version": 3
      },
      "file_extension": ".py",
      "mimetype": "text/x-python",
      "name": "python",
<<<<<<< HEAD
      "nbconvert_exporter": "python",
      "pygments_lexer": "ipython3",
      "version": "3.9.13"
=======
      "version": "3.9.13 (main, Aug 25 2022, 18:29:29) \n[Clang 12.0.0 ]"
>>>>>>> cb244b041e1b2b9fda507ce7cd010a46b39a570d
    },
    "vscode": {
      "interpreter": {
        "hash": "d137e21cef3bd3ee2163c174876d107c20b45114d6e65d7dfb6a45010d44d948"
      }
    }
  },
  "nbformat": 4,
  "nbformat_minor": 0
}
